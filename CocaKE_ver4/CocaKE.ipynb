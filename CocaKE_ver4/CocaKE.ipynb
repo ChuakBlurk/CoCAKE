{
 "cells": [
  {
   "cell_type": "code",
   "execution_count": 1,
   "metadata": {
    "colab": {
     "base_uri": "https://localhost:8080/"
    },
    "executionInfo": {
     "elapsed": 8236,
     "status": "ok",
     "timestamp": 1653378015397,
     "user": {
      "displayName": "Bruce HU",
      "userId": "02309357718155453395"
     },
     "user_tz": -120
    },
    "id": "vZwq84Xtc1JK",
    "outputId": "1dab5771-2d2b-4a69-9ea5-28dfa329f4c7"
   },
   "outputs": [
    {
     "name": "stdout",
     "output_type": "stream",
     "text": [
      "Collecting transformers\n",
      "  Downloading transformers-4.19.2-py3-none-any.whl (4.2 MB)\n",
      "\u001b[K     |████████████████████████████████| 4.2 MB 3.3 MB/s eta 0:00:01\n",
      "\u001b[?25hCollecting huggingface-hub<1.0,>=0.1.0\n",
      "  Downloading huggingface_hub-0.7.0-py3-none-any.whl (86 kB)\n",
      "\u001b[K     |████████████████████████████████| 86 kB 13.0 MB/s eta 0:00:01\n",
      "\u001b[?25hCollecting regex!=2019.12.17\n",
      "  Downloading regex-2022.4.24-cp38-cp38-manylinux_2_17_x86_64.manylinux2014_x86_64.whl (764 kB)\n",
      "\u001b[K     |████████████████████████████████| 764 kB 48.6 MB/s eta 0:00:01\n",
      "\u001b[?25hCollecting tokenizers!=0.11.3,<0.13,>=0.11.1\n",
      "  Downloading tokenizers-0.12.1-cp38-cp38-manylinux_2_12_x86_64.manylinux2010_x86_64.whl (6.6 MB)\n",
      "\u001b[K     |████████████████████████████████| 6.6 MB 45.7 MB/s eta 0:00:01     |█████████▉                      | 2.0 MB 45.7 MB/s eta 0:00:01\n",
      "\u001b[?25hRequirement already satisfied: tqdm>=4.27 in /opt/conda/lib/python3.8/site-packages (from transformers) (4.62.3)\n",
      "Requirement already satisfied: pyyaml>=5.1 in /opt/conda/lib/python3.8/site-packages (from transformers) (6.0)\n",
      "Requirement already satisfied: packaging>=20.0 in /opt/conda/lib/python3.8/site-packages (from transformers) (21.3)\n",
      "Requirement already satisfied: numpy>=1.17 in /opt/conda/lib/python3.8/site-packages (from transformers) (1.21.2)\n",
      "Requirement already satisfied: filelock in /opt/conda/lib/python3.8/site-packages (from transformers) (3.4.2)\n",
      "Requirement already satisfied: requests in /opt/conda/lib/python3.8/site-packages (from transformers) (2.27.1)\n",
      "Requirement already satisfied: typing-extensions>=3.7.4.3 in /opt/conda/lib/python3.8/site-packages (from huggingface-hub<1.0,>=0.1.0->transformers) (3.10.0.2)\n",
      "Requirement already satisfied: pyparsing!=3.0.5,>=2.0.2 in /opt/conda/lib/python3.8/site-packages (from packaging>=20.0->transformers) (3.0.9)\n",
      "Requirement already satisfied: charset-normalizer~=2.0.0 in /opt/conda/lib/python3.8/site-packages (from requests->transformers) (2.0.4)\n",
      "Requirement already satisfied: idna<4,>=2.5 in /opt/conda/lib/python3.8/site-packages (from requests->transformers) (3.3)\n",
      "Requirement already satisfied: certifi>=2017.4.17 in /opt/conda/lib/python3.8/site-packages (from requests->transformers) (2021.10.8)\n",
      "Requirement already satisfied: urllib3<1.27,>=1.21.1 in /opt/conda/lib/python3.8/site-packages (from requests->transformers) (1.26.7)\n",
      "Installing collected packages: tokenizers, regex, huggingface-hub, transformers\n",
      "Successfully installed huggingface-hub-0.7.0 regex-2022.4.24 tokenizers-0.12.1 transformers-4.19.2\n",
      "\u001b[33mWARNING: Running pip as the 'root' user can result in broken permissions and conflicting behaviour with the system package manager. It is recommended to use a virtual environment instead: https://pip.pypa.io/warnings/venv\u001b[0m\n"
     ]
    }
   ],
   "source": [
    "!pip install transformers"
   ]
  },
  {
   "cell_type": "code",
   "execution_count": 4,
   "metadata": {},
   "outputs": [
    {
     "name": "stderr",
     "output_type": "stream",
     "text": [
      "Traceback (most recent call last):\n",
      "  File \"e:\\University\\Year 3 Spring\\Exchange\\ETH\\Lectures\\Computational Semantics\\Project\\CocaKE_Bruce\\CocaKE_ver4\\preprocess.py\", line 22, in <module>\n",
      "    mp.set_start_method('fork')\n",
      "  File \"e:\\Anaconda\\lib\\multiprocessing\\context.py\", line 247, in set_start_method\n",
      "    self._actual_context = self.get_context(method)\n",
      "  File \"e:\\Anaconda\\lib\\multiprocessing\\context.py\", line 239, in get_context\n",
      "    return super().get_context(method)\n",
      "  File \"e:\\Anaconda\\lib\\multiprocessing\\context.py\", line 193, in get_context\n",
      "    raise ValueError('cannot find context for %r' % method) from None\n",
      "ValueError: cannot find context for 'fork'\n"
     ]
    }
   ],
   "source": [
    "!python -u preprocess.py --task \"FB15k237\" \\\n",
    "--train-path \"data/FB15k237/train.txt\" \\\n",
    "--valid-path \"data/FB15k237/valid.txt\" \\\n",
    "--test-path \"data/FB15k237/test.txt\""
   ]
  },
  {
   "cell_type": "code",
   "execution_count": 10,
   "metadata": {
    "colab": {
     "base_uri": "https://localhost:8080/"
    },
    "executionInfo": {
     "elapsed": 208,
     "status": "ok",
     "timestamp": 1652736004094,
     "user": {
      "displayName": "Bruce HU",
      "userId": "02309357718155453395"
     },
     "user_tz": -120
    },
    "id": "fsHAPIyscjw_",
    "outputId": "4bd64e57-cb84-4f99-c0be-95e94e4e4d00"
   },
   "outputs": [
    {
     "name": "stdout",
     "output_type": "stream",
     "text": [
      "{'hr_token_ids': tensor([[  101,  7673,  5623,  ...,  9773,  2400,   102],\n",
      "        [  101,  1996,  2935,  ...,  3364,  2143,   102],\n",
      "        [  101,  9116,  2005,  ...,  4696,  2400,   102],\n",
      "        ...,\n",
      "        [  101, 20816,  1024,  ...,  3397,  3295,   102],\n",
      "        [  101,  2142,  6109,  ...,  4696,  2400,   102],\n",
      "        [  101,  7150,  1044,  ...,  2147,  2400,   102]]), 'hr_mask': tensor([[1, 1, 1,  ..., 1, 1, 1],\n",
      "        [1, 1, 1,  ..., 1, 1, 1],\n",
      "        [1, 1, 1,  ..., 1, 1, 1],\n",
      "        ...,\n",
      "        [1, 1, 1,  ..., 1, 1, 1],\n",
      "        [1, 1, 1,  ..., 1, 1, 1],\n",
      "        [1, 1, 1,  ..., 1, 1, 1]], dtype=torch.uint8), 'hr_token_type_ids': tensor([[0, 0, 0,  ..., 1, 1, 1],\n",
      "        [0, 0, 0,  ..., 1, 1, 1],\n",
      "        [0, 0, 0,  ..., 1, 1, 1],\n",
      "        ...,\n",
      "        [0, 0, 0,  ..., 1, 1, 1],\n",
      "        [0, 0, 0,  ..., 1, 1, 1],\n",
      "        [0, 0, 0,  ..., 1, 1, 1]]), 'tail_token_ids': tensor([[  101, 22284,  2400,  ...,  1037,  2143,   102],\n",
      "        [  101,  9392,  8064,  ...,  1037,  3528,   102],\n",
      "        [  101,  2981,  4382,  ...,  6047,  4355,   102],\n",
      "        ...,\n",
      "        [  101,  5118,  1011,  ...,  1998,  1996,   102],\n",
      "        [  101,  3743,  2143,  ...,     0,     0,     0],\n",
      "        [  101,  2129,  2665,  ..., 22892,  2011,   102]]), 'tail_mask': tensor([[1, 1, 1,  ..., 1, 1, 1],\n",
      "        [1, 1, 1,  ..., 1, 1, 1],\n",
      "        [1, 1, 1,  ..., 1, 1, 1],\n",
      "        ...,\n",
      "        [1, 1, 1,  ..., 1, 1, 1],\n",
      "        [1, 1, 1,  ..., 0, 0, 0],\n",
      "        [1, 1, 1,  ..., 1, 1, 1]], dtype=torch.uint8), 'tail_token_type_ids': tensor([[0, 0, 0,  ..., 0, 0, 0],\n",
      "        [0, 0, 0,  ..., 0, 0, 0],\n",
      "        [0, 0, 0,  ..., 0, 0, 0],\n",
      "        ...,\n",
      "        [0, 0, 0,  ..., 0, 0, 0],\n",
      "        [0, 0, 0,  ..., 0, 0, 0],\n",
      "        [0, 0, 0,  ..., 0, 0, 0]]), 'head_token_ids': tensor([[  101,  7673,  5623,  ...,  3467,  1005,   102],\n",
      "        [  101,  1996,  2935,  ...,  1054,  1012,   102],\n",
      "        [  101,  9116,  2005,  ...,  2639,  1998,   102],\n",
      "        ...,\n",
      "        [  101, 20816,  1024,  ...,  2025,  2069,   102],\n",
      "        [  101,  2142,  6109,  ...,  2000, 28667,   102],\n",
      "        [  101,  7150,  1044,  ...,  2396,  3257,   102]]), 'head_mask': tensor([[1, 1, 1,  ..., 1, 1, 1],\n",
      "        [1, 1, 1,  ..., 1, 1, 1],\n",
      "        [1, 1, 1,  ..., 1, 1, 1],\n",
      "        ...,\n",
      "        [1, 1, 1,  ..., 1, 1, 1],\n",
      "        [1, 1, 1,  ..., 1, 1, 1],\n",
      "        [1, 1, 1,  ..., 1, 1, 1]], dtype=torch.uint8), 'head_token_type_ids': tensor([[0, 0, 0,  ..., 0, 0, 0],\n",
      "        [0, 0, 0,  ..., 0, 0, 0],\n",
      "        [0, 0, 0,  ..., 0, 0, 0],\n",
      "        ...,\n",
      "        [0, 0, 0,  ..., 0, 0, 0],\n",
      "        [0, 0, 0,  ..., 0, 0, 0],\n",
      "        [0, 0, 0,  ..., 0, 0, 0]]), 'batch_data': [<doc.Example object at 0x0000026FC16C4700>, <doc.Example object at 0x0000026FC16C4760>, <doc.Example object at 0x0000026FC16C47C0>, <doc.Example object at 0x0000026FC16C4820>, <doc.Example object at 0x0000026FC16C4880>, <doc.Example object at 0x0000026FC16C48E0>, <doc.Example object at 0x0000026FC16C4940>, <doc.Example object at 0x0000026FC16C49A0>, <doc.Example object at 0x0000026FC16C4A00>, <doc.Example object at 0x0000026FC16C4A60>, <doc.Example object at 0x0000026FC16C4AC0>, <doc.Example object at 0x0000026FC16C4B20>, <doc.Example object at 0x0000026FC16C4B80>, <doc.Example object at 0x0000026FC16C4BE0>, <doc.Example object at 0x0000026FC16C4C40>, <doc.Example object at 0x0000026FC16C4CA0>, <doc.Example object at 0x0000026FC16C4D00>, <doc.Example object at 0x0000026FC16C4D60>, <doc.Example object at 0x0000026FC16C4DC0>, <doc.Example object at 0x0000026FC16C4E20>, <doc.Example object at 0x0000026FC16C4E80>, <doc.Example object at 0x0000026FC16C4EE0>, <doc.Example object at 0x0000026FC16C4F40>, <doc.Example object at 0x0000026FC16C4FA0>, <doc.Example object at 0x0000026FC16C5040>, <doc.Example object at 0x0000026FC16C50A0>, <doc.Example object at 0x0000026FC16C5100>, <doc.Example object at 0x0000026FC16C5160>, <doc.Example object at 0x0000026FC16C51C0>, <doc.Example object at 0x0000026FC16C5220>, <doc.Example object at 0x0000026FC16C5280>, <doc.Example object at 0x0000026FC16C52E0>, <doc.Example object at 0x0000026FC16C5340>, <doc.Example object at 0x0000026FC16C53A0>, <doc.Example object at 0x0000026FC16C5400>, <doc.Example object at 0x0000026FC16C5460>, <doc.Example object at 0x0000026FC16C54C0>, <doc.Example object at 0x0000026FC16C5520>, <doc.Example object at 0x0000026FC16C5580>, <doc.Example object at 0x0000026FC16C55E0>, <doc.Example object at 0x0000026FC16C5640>, <doc.Example object at 0x0000026FC16C56A0>, <doc.Example object at 0x0000026FC16C5700>, <doc.Example object at 0x0000026FC16C5760>, <doc.Example object at 0x0000026FC16C57C0>, <doc.Example object at 0x0000026FC16C5820>, <doc.Example object at 0x0000026FC16C5880>, <doc.Example object at 0x0000026FC16C58E0>, <doc.Example object at 0x0000026FC16C5940>, <doc.Example object at 0x0000026FC16C59A0>, <doc.Example object at 0x0000026FC16C5A00>, <doc.Example object at 0x0000026FC16C5A60>, <doc.Example object at 0x0000026FC16C5AC0>, <doc.Example object at 0x0000026FC16C5B20>, <doc.Example object at 0x0000026FC16C5B80>, <doc.Example object at 0x0000026FC16C5BE0>, <doc.Example object at 0x0000026FC16C5C40>, <doc.Example object at 0x0000026FC16C5CA0>, <doc.Example object at 0x0000026FC16C5D00>, <doc.Example object at 0x0000026FC16C5D60>, <doc.Example object at 0x0000026FC16C5DC0>, <doc.Example object at 0x0000026FC16C5E20>, <doc.Example object at 0x0000026FC16C5E80>, <doc.Example object at 0x0000026FC16C5EE0>, <doc.Example object at 0x0000026FC16C5F40>, <doc.Example object at 0x0000026FC16C5FA0>, <doc.Example object at 0x0000026FC16C8040>, <doc.Example object at 0x0000026FC16C80A0>, <doc.Example object at 0x0000026FC16C8100>, <doc.Example object at 0x0000026FC16C8160>, <doc.Example object at 0x0000026FC16C81C0>, <doc.Example object at 0x0000026FC16C8220>, <doc.Example object at 0x0000026FC16C8280>, <doc.Example object at 0x0000026FC16C82E0>, <doc.Example object at 0x0000026FC16C8340>, <doc.Example object at 0x0000026FC16C83A0>, <doc.Example object at 0x0000026FC16C8400>, <doc.Example object at 0x0000026FC16C8460>, <doc.Example object at 0x0000026FC16C84C0>, <doc.Example object at 0x0000026FC16C8520>, <doc.Example object at 0x0000026FC16C8580>, <doc.Example object at 0x0000026FC16C85E0>, <doc.Example object at 0x0000026FC16C8640>, <doc.Example object at 0x0000026FC16C86A0>, <doc.Example object at 0x0000026FC16C8700>, <doc.Example object at 0x0000026FC16C8760>, <doc.Example object at 0x0000026FC16C87C0>, <doc.Example object at 0x0000026FC16C8820>, <doc.Example object at 0x0000026FC16C8880>, <doc.Example object at 0x0000026FC16C88E0>, <doc.Example object at 0x0000026FC16C8940>, <doc.Example object at 0x0000026FC16C89A0>, <doc.Example object at 0x0000026FC16C8A00>, <doc.Example object at 0x0000026FC16C8A60>, <doc.Example object at 0x0000026FC16C8AC0>, <doc.Example object at 0x0000026FC16C8B20>, <doc.Example object at 0x0000026FC16C8B80>, <doc.Example object at 0x0000026FC16C8BE0>, <doc.Example object at 0x0000026FC16C8C40>, <doc.Example object at 0x0000026FC16C8CA0>, <doc.Example object at 0x0000026FC16C8D00>, <doc.Example object at 0x0000026FC16C8D60>, <doc.Example object at 0x0000026FC16C8DC0>, <doc.Example object at 0x0000026FC16C8E20>, <doc.Example object at 0x0000026FC16C8E80>, <doc.Example object at 0x0000026FC16C8EE0>, <doc.Example object at 0x0000026FC16C8F40>, <doc.Example object at 0x0000026FC16C8FA0>, <doc.Example object at 0x0000026FC16C9040>, <doc.Example object at 0x0000026FC16C90A0>, <doc.Example object at 0x0000026FC16C9100>, <doc.Example object at 0x0000026FC16C9160>, <doc.Example object at 0x0000026FC16C91C0>, <doc.Example object at 0x0000026FC16C9220>, <doc.Example object at 0x0000026FC16C9280>, <doc.Example object at 0x0000026FC16C92E0>, <doc.Example object at 0x0000026FC16C9340>, <doc.Example object at 0x0000026FC16C93A0>, <doc.Example object at 0x0000026FC16C9400>, <doc.Example object at 0x0000026FC16C9460>, <doc.Example object at 0x0000026FC16C94C0>, <doc.Example object at 0x0000026FC16C9520>, <doc.Example object at 0x0000026FC16C9580>, <doc.Example object at 0x0000026FC16C95E0>, <doc.Example object at 0x0000026FC16C9640>, <doc.Example object at 0x0000026FC16C96A0>, <doc.Example object at 0x0000026FC16C9700>, <doc.Example object at 0x0000026FC16C9760>, <doc.Example object at 0x0000026FC16C97C0>, <doc.Example object at 0x0000026FC16C9820>, <doc.Example object at 0x0000026FC16C9880>, <doc.Example object at 0x0000026FC16C98E0>, <doc.Example object at 0x0000026FC16C9940>, <doc.Example object at 0x0000026FC16C99A0>, <doc.Example object at 0x0000026FC16C9A00>, <doc.Example object at 0x0000026FC16C9A60>, <doc.Example object at 0x0000026FC16C9AC0>, <doc.Example object at 0x0000026FC16C9B20>, <doc.Example object at 0x0000026FC16C9B80>, <doc.Example object at 0x0000026FC16C9BE0>, <doc.Example object at 0x0000026FC16C9C40>, <doc.Example object at 0x0000026FC16C9CA0>, <doc.Example object at 0x0000026FC16C9D00>, <doc.Example object at 0x0000026FC16C9D60>, <doc.Example object at 0x0000026FC16C9DC0>, <doc.Example object at 0x0000026FC16C9E20>, <doc.Example object at 0x0000026FC16C9E80>, <doc.Example object at 0x0000026FC16C9EE0>, <doc.Example object at 0x0000026FC16C9F40>, <doc.Example object at 0x0000026FC16C9FA0>, <doc.Example object at 0x0000026FC16CA040>, <doc.Example object at 0x0000026FC16CA0A0>, <doc.Example object at 0x0000026FC16CA100>, <doc.Example object at 0x0000026FC16CA160>, <doc.Example object at 0x0000026FC16CA1C0>, <doc.Example object at 0x0000026FC16CA220>, <doc.Example object at 0x0000026FC16CA280>, <doc.Example object at 0x0000026FC16CA2E0>, <doc.Example object at 0x0000026FC16CA340>, <doc.Example object at 0x0000026FC16CA3A0>, <doc.Example object at 0x0000026FC16CA400>, <doc.Example object at 0x0000026FC16CA460>, <doc.Example object at 0x0000026FC16CA4C0>, <doc.Example object at 0x0000026FC16CA520>, <doc.Example object at 0x0000026FC16CA580>, <doc.Example object at 0x0000026FC16CA5E0>, <doc.Example object at 0x0000026FC16CA640>, <doc.Example object at 0x0000026FC16CA6A0>, <doc.Example object at 0x0000026FC16CA700>, <doc.Example object at 0x0000026FC16CA760>, <doc.Example object at 0x0000026FC16CA7C0>, <doc.Example object at 0x0000026FC16CA820>, <doc.Example object at 0x0000026FC16CA880>, <doc.Example object at 0x0000026FC16CA8E0>, <doc.Example object at 0x0000026FC16CA940>, <doc.Example object at 0x0000026FC16CA9A0>, <doc.Example object at 0x0000026FC16CAA00>, <doc.Example object at 0x0000026FC16CAA60>, <doc.Example object at 0x0000026FC16CAAC0>, <doc.Example object at 0x0000026FC16CAB20>, <doc.Example object at 0x0000026FC16CAB80>, <doc.Example object at 0x0000026FC16CABE0>, <doc.Example object at 0x0000026FC16CAC40>, <doc.Example object at 0x0000026FC16CACA0>, <doc.Example object at 0x0000026FC16CAD00>, <doc.Example object at 0x0000026FC16CAD60>, <doc.Example object at 0x0000026FC16CADC0>, <doc.Example object at 0x0000026FC16CAE20>, <doc.Example object at 0x0000026FC16CAE80>, <doc.Example object at 0x0000026FC16CAEE0>, <doc.Example object at 0x0000026FC16CAF40>, <doc.Example object at 0x0000026FC16CAFA0>, <doc.Example object at 0x0000026FC16CD040>, <doc.Example object at 0x0000026FC16CD0A0>, <doc.Example object at 0x0000026FC16CD100>, <doc.Example object at 0x0000026FC16CD160>, <doc.Example object at 0x0000026FC16CD1C0>, <doc.Example object at 0x0000026FC16CD220>, <doc.Example object at 0x0000026FC16CD280>, <doc.Example object at 0x0000026FC16CD2E0>, <doc.Example object at 0x0000026FC16CD340>, <doc.Example object at 0x0000026FC16CD3A0>, <doc.Example object at 0x0000026FC16CD400>, <doc.Example object at 0x0000026FC16CD460>, <doc.Example object at 0x0000026FC16CD4C0>, <doc.Example object at 0x0000026FC16CD520>, <doc.Example object at 0x0000026FC16CD580>, <doc.Example object at 0x0000026FC16CD5E0>, <doc.Example object at 0x0000026FC16CD640>, <doc.Example object at 0x0000026FC16CD6A0>, <doc.Example object at 0x0000026FC16CD700>, <doc.Example object at 0x0000026FC16CD760>, <doc.Example object at 0x0000026FC16CD7C0>, <doc.Example object at 0x0000026FC16CD820>, <doc.Example object at 0x0000026FC16CD880>, <doc.Example object at 0x0000026FC16CD8E0>, <doc.Example object at 0x0000026FC16CD940>, <doc.Example object at 0x0000026FC16CD9A0>, <doc.Example object at 0x0000026FC16CDA00>, <doc.Example object at 0x0000026FC16CDA60>, <doc.Example object at 0x0000026FC16CDAC0>, <doc.Example object at 0x0000026FC16CDB20>, <doc.Example object at 0x0000026FC16CDB80>, <doc.Example object at 0x0000026FC16CDBE0>, <doc.Example object at 0x0000026FC16CDC40>, <doc.Example object at 0x0000026FC16CDCA0>, <doc.Example object at 0x0000026FC16CDD00>, <doc.Example object at 0x0000026FC16CDD60>, <doc.Example object at 0x0000026FC16CDDC0>, <doc.Example object at 0x0000026FC16CDE20>, <doc.Example object at 0x0000026FC16CDE80>, <doc.Example object at 0x0000026FC16CDEE0>, <doc.Example object at 0x0000026FC16CDF40>, <doc.Example object at 0x0000026FC16CDFA0>, <doc.Example object at 0x0000026FC16CE040>, <doc.Example object at 0x0000026FC16CE0A0>, <doc.Example object at 0x0000026FC16CE100>, <doc.Example object at 0x0000026FC16CE160>, <doc.Example object at 0x0000026FC16CE1C0>, <doc.Example object at 0x0000026FC16CE220>, <doc.Example object at 0x0000026FC16CE280>, <doc.Example object at 0x0000026FC16CE2E0>, <doc.Example object at 0x0000026FC16CE340>, <doc.Example object at 0x0000026FC16CE3A0>, <doc.Example object at 0x0000026FC16CE400>, <doc.Example object at 0x0000026FC16CE460>, <doc.Example object at 0x0000026FC16CE4C0>, <doc.Example object at 0x0000026FC16CE520>, <doc.Example object at 0x0000026FC16CE580>, <doc.Example object at 0x0000026FC16CE5E0>, <doc.Example object at 0x0000026FC16CE640>, <doc.Example object at 0x0000026FC16CE6A0>, <doc.Example object at 0x0000026FC16CE700>, <doc.Example object at 0x0000026FC16CE760>, <doc.Example object at 0x0000026FC16CE7C0>, <doc.Example object at 0x0000026FC16CE820>, <doc.Example object at 0x0000026FC16CE880>, <doc.Example object at 0x0000026FC16CE8E0>, <doc.Example object at 0x0000026FC16CE940>, <doc.Example object at 0x0000026FC16CE9A0>, <doc.Example object at 0x0000026FC16CEA00>, <doc.Example object at 0x0000026FC16CEA60>, <doc.Example object at 0x0000026FC16CEAC0>, <doc.Example object at 0x0000026FC16CEB20>, <doc.Example object at 0x0000026FC16CEB80>, <doc.Example object at 0x0000026FC16CEBE0>, <doc.Example object at 0x0000026FC16CEC40>, <doc.Example object at 0x0000026FC16CECA0>, <doc.Example object at 0x0000026FC16CED00>, <doc.Example object at 0x0000026FC16CED60>, <doc.Example object at 0x0000026FC16CEDC0>, <doc.Example object at 0x0000026FC16CEE20>, <doc.Example object at 0x0000026FC16CEE80>, <doc.Example object at 0x0000026FC16CEEE0>, <doc.Example object at 0x0000026FC16CEF40>, <doc.Example object at 0x0000026FC16CEFA0>, <doc.Example object at 0x0000026FC16CF040>, <doc.Example object at 0x0000026FC16CF0A0>, <doc.Example object at 0x0000026FC16CF100>, <doc.Example object at 0x0000026FC16CF160>, <doc.Example object at 0x0000026FC16CF1C0>, <doc.Example object at 0x0000026FC16CF220>, <doc.Example object at 0x0000026FC16CF280>, <doc.Example object at 0x0000026FC16CF2E0>, <doc.Example object at 0x0000026FC16CF340>, <doc.Example object at 0x0000026FC16CF3A0>, <doc.Example object at 0x0000026FC16CF400>, <doc.Example object at 0x0000026FC16CF460>, <doc.Example object at 0x0000026FC16CF4C0>, <doc.Example object at 0x0000026FC16CF520>, <doc.Example object at 0x0000026FC16CF580>, <doc.Example object at 0x0000026FC16CF5E0>, <doc.Example object at 0x0000026FC16CF640>, <doc.Example object at 0x0000026FC16CF6A0>, <doc.Example object at 0x0000026FC16CF700>, <doc.Example object at 0x0000026FC16CF760>, <doc.Example object at 0x0000026FC16CF7C0>, <doc.Example object at 0x0000026FC16CF820>, <doc.Example object at 0x0000026FC16CF880>, <doc.Example object at 0x0000026FC16CF8E0>, <doc.Example object at 0x0000026FC16CF940>, <doc.Example object at 0x0000026FC16CF9A0>, <doc.Example object at 0x0000026FC16CFA00>, <doc.Example object at 0x0000026FC16CFA60>, <doc.Example object at 0x0000026FC16CFAC0>, <doc.Example object at 0x0000026FC16CFB20>, <doc.Example object at 0x0000026FC16CFB80>, <doc.Example object at 0x0000026FC16CFBE0>, <doc.Example object at 0x0000026FC16CFC40>, <doc.Example object at 0x0000026FC16CFCA0>, <doc.Example object at 0x0000026FC16CFD00>, <doc.Example object at 0x0000026FC16CFD60>, <doc.Example object at 0x0000026FC16CFDC0>, <doc.Example object at 0x0000026FC16CFE20>, <doc.Example object at 0x0000026FC16CFE80>, <doc.Example object at 0x0000026FC16CFEE0>, <doc.Example object at 0x0000026FC16CFF40>, <doc.Example object at 0x0000026FC16CFFA0>, <doc.Example object at 0x0000026FC16D2040>, <doc.Example object at 0x0000026FC16D20A0>, <doc.Example object at 0x0000026FC16D2100>, <doc.Example object at 0x0000026FC16D2160>, <doc.Example object at 0x0000026FC16D21C0>, <doc.Example object at 0x0000026FC16D2220>, <doc.Example object at 0x0000026FC16D2280>, <doc.Example object at 0x0000026FC16D22E0>, <doc.Example object at 0x0000026FC16D2340>, <doc.Example object at 0x0000026FC16D23A0>, <doc.Example object at 0x0000026FC16D2400>, <doc.Example object at 0x0000026FC16D2460>, <doc.Example object at 0x0000026FC16D24C0>, <doc.Example object at 0x0000026FC16D2520>, <doc.Example object at 0x0000026FC16D2580>, <doc.Example object at 0x0000026FC16D25E0>, <doc.Example object at 0x0000026FC16D2640>, <doc.Example object at 0x0000026FC16D26A0>, <doc.Example object at 0x0000026FC16D2700>, <doc.Example object at 0x0000026FC16D2760>, <doc.Example object at 0x0000026FC16D27C0>, <doc.Example object at 0x0000026FC16D2820>, <doc.Example object at 0x0000026FC16D2880>, <doc.Example object at 0x0000026FC16D28E0>, <doc.Example object at 0x0000026FC16D2940>, <doc.Example object at 0x0000026FC16D29A0>, <doc.Example object at 0x0000026FC16D2A00>, <doc.Example object at 0x0000026FC16D2A60>, <doc.Example object at 0x0000026FC16D2AC0>, <doc.Example object at 0x0000026FC16D2B20>, <doc.Example object at 0x0000026FC16D2B80>, <doc.Example object at 0x0000026FC16D2BE0>, <doc.Example object at 0x0000026FC16D2C40>, <doc.Example object at 0x0000026FC16D2CA0>, <doc.Example object at 0x0000026FC16D2D00>, <doc.Example object at 0x0000026FC16D2D60>, <doc.Example object at 0x0000026FC16D2DC0>, <doc.Example object at 0x0000026FC16D2E20>, <doc.Example object at 0x0000026FC16D2E80>, <doc.Example object at 0x0000026FC16D2EE0>, <doc.Example object at 0x0000026FC16D2F40>, <doc.Example object at 0x0000026FC16D2FA0>, <doc.Example object at 0x0000026FC16D3040>, <doc.Example object at 0x0000026FC16D30A0>, <doc.Example object at 0x0000026FC16D3100>, <doc.Example object at 0x0000026FC16D3160>, <doc.Example object at 0x0000026FC16D31C0>, <doc.Example object at 0x0000026FC16D3220>, <doc.Example object at 0x0000026FC16D3280>, <doc.Example object at 0x0000026FC16D32E0>, <doc.Example object at 0x0000026FC16D3340>, <doc.Example object at 0x0000026FC16D33A0>, <doc.Example object at 0x0000026FC16D3400>, <doc.Example object at 0x0000026FC16D3460>, <doc.Example object at 0x0000026FC16D34C0>, <doc.Example object at 0x0000026FC16D3520>, <doc.Example object at 0x0000026FC16D3580>, <doc.Example object at 0x0000026FC16D35E0>, <doc.Example object at 0x0000026FC16D3640>, <doc.Example object at 0x0000026FC16D36A0>, <doc.Example object at 0x0000026FC16D3700>, <doc.Example object at 0x0000026FC16D3760>, <doc.Example object at 0x0000026FC16D37C0>, <doc.Example object at 0x0000026FC16D3820>, <doc.Example object at 0x0000026FC16D3880>, <doc.Example object at 0x0000026FC16D38E0>, <doc.Example object at 0x0000026FC16D3940>, <doc.Example object at 0x0000026FC16D39A0>, <doc.Example object at 0x0000026FC16D3A00>, <doc.Example object at 0x0000026FC16D3A60>, <doc.Example object at 0x0000026FC16D3AC0>, <doc.Example object at 0x0000026FC16D3B20>, <doc.Example object at 0x0000026FC16D3B80>, <doc.Example object at 0x0000026FC16D3BE0>, <doc.Example object at 0x0000026FC16D3C40>, <doc.Example object at 0x0000026FC16D3CA0>, <doc.Example object at 0x0000026FC16D3D00>, <doc.Example object at 0x0000026FC16D3D60>, <doc.Example object at 0x0000026FC16D3DC0>, <doc.Example object at 0x0000026FC16D3E20>, <doc.Example object at 0x0000026FC16D3E80>, <doc.Example object at 0x0000026FC16D3EE0>, <doc.Example object at 0x0000026FC16D3F40>, <doc.Example object at 0x0000026FC16D3FA0>, <doc.Example object at 0x0000026FC16D4040>, <doc.Example object at 0x0000026FC16D40A0>, <doc.Example object at 0x0000026FC16D4100>, <doc.Example object at 0x0000026FC16D4160>, <doc.Example object at 0x0000026FC16D41C0>, <doc.Example object at 0x0000026FC16D4220>, <doc.Example object at 0x0000026FC16D4280>, <doc.Example object at 0x0000026FC16D42E0>, <doc.Example object at 0x0000026FC16D4340>, <doc.Example object at 0x0000026FC16D43A0>, <doc.Example object at 0x0000026FC16D4400>, <doc.Example object at 0x0000026FC16D4460>, <doc.Example object at 0x0000026FC16D44C0>, <doc.Example object at 0x0000026FC16D4520>, <doc.Example object at 0x0000026FC16D4580>, <doc.Example object at 0x0000026FC16D45E0>, <doc.Example object at 0x0000026FC16D4640>, <doc.Example object at 0x0000026FC16D46A0>, <doc.Example object at 0x0000026FC16D4700>, <doc.Example object at 0x0000026FC16D4760>, <doc.Example object at 0x0000026FC16D47C0>, <doc.Example object at 0x0000026FC16D4820>, <doc.Example object at 0x0000026FC16D4880>, <doc.Example object at 0x0000026FC16D48E0>, <doc.Example object at 0x0000026FC16D4940>, <doc.Example object at 0x0000026FC16D49A0>, <doc.Example object at 0x0000026FC16D4A00>, <doc.Example object at 0x0000026FC16D4A60>, <doc.Example object at 0x0000026FC16D4AC0>, <doc.Example object at 0x0000026FC16D4B20>, <doc.Example object at 0x0000026FC16D4B80>, <doc.Example object at 0x0000026FC16D4BE0>, <doc.Example object at 0x0000026FC16D4C40>, <doc.Example object at 0x0000026FC16D4CA0>, <doc.Example object at 0x0000026FC16D4D00>, <doc.Example object at 0x0000026FC16D4D60>, <doc.Example object at 0x0000026FC16D4DC0>, <doc.Example object at 0x0000026FC16D4E20>, <doc.Example object at 0x0000026FC16D4E80>, <doc.Example object at 0x0000026FC16D4EE0>, <doc.Example object at 0x0000026FC16D4F40>, <doc.Example object at 0x0000026FC16D4FA0>, <doc.Example object at 0x0000026FC16D7040>, <doc.Example object at 0x0000026FC16D70A0>, <doc.Example object at 0x0000026FC16D7100>, <doc.Example object at 0x0000026FC16D7160>, <doc.Example object at 0x0000026FC16D71C0>, <doc.Example object at 0x0000026FC16D7220>, <doc.Example object at 0x0000026FC16D7280>, <doc.Example object at 0x0000026FC16D72E0>, <doc.Example object at 0x0000026FC16D7340>, <doc.Example object at 0x0000026FC16D73A0>, <doc.Example object at 0x0000026FC16D7400>, <doc.Example object at 0x0000026FC16D7460>, <doc.Example object at 0x0000026FC16D74C0>, <doc.Example object at 0x0000026FC16D7520>, <doc.Example object at 0x0000026FC16D7580>, <doc.Example object at 0x0000026FC16D75E0>, <doc.Example object at 0x0000026FC16D7640>, <doc.Example object at 0x0000026FC16D76A0>, <doc.Example object at 0x0000026FC16D7700>, <doc.Example object at 0x0000026FC16D7760>, <doc.Example object at 0x0000026FC16D77C0>, <doc.Example object at 0x0000026FC16D7820>, <doc.Example object at 0x0000026FC16D7880>, <doc.Example object at 0x0000026FC16D78E0>, <doc.Example object at 0x0000026FC16D7940>, <doc.Example object at 0x0000026FC16D79A0>, <doc.Example object at 0x0000026FC16D7A00>, <doc.Example object at 0x0000026FC16D7A60>, <doc.Example object at 0x0000026FC16D7AC0>, <doc.Example object at 0x0000026FC16D7B20>, <doc.Example object at 0x0000026FC16D7B80>, <doc.Example object at 0x0000026FC16D7BE0>, <doc.Example object at 0x0000026FC16D7C40>, <doc.Example object at 0x0000026FC16D7CA0>, <doc.Example object at 0x0000026FC16D7D00>, <doc.Example object at 0x0000026FC16D7D60>, <doc.Example object at 0x0000026FC16D7DC0>, <doc.Example object at 0x0000026FC16D7E20>, <doc.Example object at 0x0000026FC16D7E80>, <doc.Example object at 0x0000026FC16D7EE0>, <doc.Example object at 0x0000026FC16D7F40>, <doc.Example object at 0x0000026FC16D7FA0>, <doc.Example object at 0x0000026FC16D8040>, <doc.Example object at 0x0000026FC16D80A0>, <doc.Example object at 0x0000026FC16D8100>, <doc.Example object at 0x0000026FC16D8160>, <doc.Example object at 0x0000026FC16D81C0>, <doc.Example object at 0x0000026FC16D8220>, <doc.Example object at 0x0000026FC16D8280>, <doc.Example object at 0x0000026FC16D82E0>, <doc.Example object at 0x0000026FC16D8340>, <doc.Example object at 0x0000026FC16D83A0>, <doc.Example object at 0x0000026FC16D8400>, <doc.Example object at 0x0000026FC16D8460>, <doc.Example object at 0x0000026FC16D84C0>, <doc.Example object at 0x0000026FC16D8520>, <doc.Example object at 0x0000026FC16D8580>, <doc.Example object at 0x0000026FC16D85E0>, <doc.Example object at 0x0000026FC16D8640>, <doc.Example object at 0x0000026FC16D86A0>, <doc.Example object at 0x0000026FC16D8700>, <doc.Example object at 0x0000026FC16D8760>, <doc.Example object at 0x0000026FC16D87C0>, <doc.Example object at 0x0000026FC16D8820>, <doc.Example object at 0x0000026FC16D8880>, <doc.Example object at 0x0000026FC16D88E0>, <doc.Example object at 0x0000026FC16D8940>, <doc.Example object at 0x0000026FC16D89A0>, <doc.Example object at 0x0000026FC16D8A00>, <doc.Example object at 0x0000026FC16D8A60>, <doc.Example object at 0x0000026FC16D8AC0>, <doc.Example object at 0x0000026FC16D8B20>, <doc.Example object at 0x0000026FC16D8B80>, <doc.Example object at 0x0000026FC16D8BE0>, <doc.Example object at 0x0000026FC16D8C40>, <doc.Example object at 0x0000026FC16D8CA0>, <doc.Example object at 0x0000026FC16D8D00>, <doc.Example object at 0x0000026FC16D8D60>, <doc.Example object at 0x0000026FC16D8DC0>, <doc.Example object at 0x0000026FC16D8E20>, <doc.Example object at 0x0000026FC16D8E80>, <doc.Example object at 0x0000026FC16D8EE0>, <doc.Example object at 0x0000026FC16D8F40>, <doc.Example object at 0x0000026FC16D8FA0>, <doc.Example object at 0x0000026FC16DA040>, <doc.Example object at 0x0000026FC16DA0A0>, <doc.Example object at 0x0000026FC16DA100>, <doc.Example object at 0x0000026FC16DA160>, <doc.Example object at 0x0000026FC16DA1C0>, <doc.Example object at 0x0000026FC16DA220>, <doc.Example object at 0x0000026FC16DA280>, <doc.Example object at 0x0000026FC16DA2E0>, <doc.Example object at 0x0000026FC16DA340>, <doc.Example object at 0x0000026FC16DA3A0>, <doc.Example object at 0x0000026FC16DA400>, <doc.Example object at 0x0000026FC16DA460>, <doc.Example object at 0x0000026FC16DA4C0>, <doc.Example object at 0x0000026FC16DA520>, <doc.Example object at 0x0000026FC16DA580>, <doc.Example object at 0x0000026FC16DA5E0>, <doc.Example object at 0x0000026FC16DA640>, <doc.Example object at 0x0000026FC16DA6A0>, <doc.Example object at 0x0000026FC16DA700>, <doc.Example object at 0x0000026FC16DA760>, <doc.Example object at 0x0000026FC16DA7C0>, <doc.Example object at 0x0000026FC16DA820>, <doc.Example object at 0x0000026FC16DA880>, <doc.Example object at 0x0000026FC16DA8E0>, <doc.Example object at 0x0000026FC16DA940>, <doc.Example object at 0x0000026FC16DA9A0>, <doc.Example object at 0x0000026FC16DAA00>, <doc.Example object at 0x0000026FC16DAA60>, <doc.Example object at 0x0000026FC16DAAC0>, <doc.Example object at 0x0000026FC16DAB20>, <doc.Example object at 0x0000026FC16DAB80>, <doc.Example object at 0x0000026FC16DABE0>, <doc.Example object at 0x0000026FC16DAC40>, <doc.Example object at 0x0000026FC16DACA0>, <doc.Example object at 0x0000026FC16DAD00>, <doc.Example object at 0x0000026FC16DAD60>, <doc.Example object at 0x0000026FC16DADC0>, <doc.Example object at 0x0000026FC16DAE20>, <doc.Example object at 0x0000026FC16DAE80>, <doc.Example object at 0x0000026FC16DAEE0>, <doc.Example object at 0x0000026FC16DAF40>, <doc.Example object at 0x0000026FC16DAFA0>, <doc.Example object at 0x0000026FC16DC040>, <doc.Example object at 0x0000026FC16DC0A0>, <doc.Example object at 0x0000026FC16DC100>, <doc.Example object at 0x0000026FC16DC160>, <doc.Example object at 0x0000026FC16DC1C0>, <doc.Example object at 0x0000026FC16DC220>, <doc.Example object at 0x0000026FC16DC280>, <doc.Example object at 0x0000026FC16DC2E0>, <doc.Example object at 0x0000026FC16DC340>, <doc.Example object at 0x0000026FC16DC3A0>, <doc.Example object at 0x0000026FC16DC400>, <doc.Example object at 0x0000026FC16DC460>, <doc.Example object at 0x0000026FC16DC4C0>, <doc.Example object at 0x0000026FC16DC520>, <doc.Example object at 0x0000026FC16DC580>, <doc.Example object at 0x0000026FC16DC5E0>, <doc.Example object at 0x0000026FC16DC640>, <doc.Example object at 0x0000026FC16DC6A0>, <doc.Example object at 0x0000026FC16DC700>, <doc.Example object at 0x0000026FC16DC760>, <doc.Example object at 0x0000026FC16DC7C0>, <doc.Example object at 0x0000026FC16DC820>, <doc.Example object at 0x0000026FC16DC880>, <doc.Example object at 0x0000026FC16DC8E0>, <doc.Example object at 0x0000026FC16DC940>, <doc.Example object at 0x0000026FC16DC9A0>, <doc.Example object at 0x0000026FC16DCA00>, <doc.Example object at 0x0000026FC16DCA60>, <doc.Example object at 0x0000026FC16DCAC0>, <doc.Example object at 0x0000026FC16DCB20>, <doc.Example object at 0x0000026FC16DCB80>, <doc.Example object at 0x0000026FC16DCBE0>, <doc.Example object at 0x0000026FC16DCC40>, <doc.Example object at 0x0000026FC16DCCA0>, <doc.Example object at 0x0000026FC16DCD00>, <doc.Example object at 0x0000026FC16DCD60>, <doc.Example object at 0x0000026FC16DCDC0>, <doc.Example object at 0x0000026FC16DCE20>, <doc.Example object at 0x0000026FC16DCE80>, <doc.Example object at 0x0000026FC16DCEE0>, <doc.Example object at 0x0000026FC16DCF40>, <doc.Example object at 0x0000026FC16DCFA0>, <doc.Example object at 0x0000026FC16DD040>, <doc.Example object at 0x0000026FC16DD0A0>, <doc.Example object at 0x0000026FC16DD100>, <doc.Example object at 0x0000026FC16DD160>, <doc.Example object at 0x0000026FC16DD1C0>, <doc.Example object at 0x0000026FC16DD220>, <doc.Example object at 0x0000026FC16DD280>, <doc.Example object at 0x0000026FC16DD2E0>, <doc.Example object at 0x0000026FC16DD340>, <doc.Example object at 0x0000026FC16DD3A0>, <doc.Example object at 0x0000026FC16DD400>, <doc.Example object at 0x0000026FC16DD460>, <doc.Example object at 0x0000026FC16DD4C0>, <doc.Example object at 0x0000026FC16DD520>, <doc.Example object at 0x0000026FC16DD580>, <doc.Example object at 0x0000026FC16DD5E0>, <doc.Example object at 0x0000026FC16DD640>, <doc.Example object at 0x0000026FC16DD6A0>, <doc.Example object at 0x0000026FC16DD700>, <doc.Example object at 0x0000026FC16DD760>, <doc.Example object at 0x0000026FC16DD7C0>, <doc.Example object at 0x0000026FC16DD820>, <doc.Example object at 0x0000026FC16DD880>, <doc.Example object at 0x0000026FC16DD8E0>, <doc.Example object at 0x0000026FC16DD940>, <doc.Example object at 0x0000026FC16DD9A0>, <doc.Example object at 0x0000026FC16DDA00>, <doc.Example object at 0x0000026FC16DDA60>, <doc.Example object at 0x0000026FC16DDAC0>, <doc.Example object at 0x0000026FC16DDB20>, <doc.Example object at 0x0000026FC16DDB80>, <doc.Example object at 0x0000026FC16DDBE0>, <doc.Example object at 0x0000026FC16DDC40>, <doc.Example object at 0x0000026FC16DDCA0>, <doc.Example object at 0x0000026FC16DDD00>, <doc.Example object at 0x0000026FC16DDD60>, <doc.Example object at 0x0000026FC16DDDC0>, <doc.Example object at 0x0000026FC16DDE20>, <doc.Example object at 0x0000026FC16DDE80>, <doc.Example object at 0x0000026FC16DDEE0>, <doc.Example object at 0x0000026FC16DDF40>, <doc.Example object at 0x0000026FC16DDFA0>, <doc.Example object at 0x0000026FC16DE040>, <doc.Example object at 0x0000026FC16DE0A0>, <doc.Example object at 0x0000026FC16DE100>, <doc.Example object at 0x0000026FC16DE160>, <doc.Example object at 0x0000026FC16DE1C0>, <doc.Example object at 0x0000026FC16DE220>, <doc.Example object at 0x0000026FC16DE280>, <doc.Example object at 0x0000026FC16DE2E0>, <doc.Example object at 0x0000026FC16DE340>, <doc.Example object at 0x0000026FC16DE3A0>, <doc.Example object at 0x0000026FC16DE400>, <doc.Example object at 0x0000026FC16DE460>, <doc.Example object at 0x0000026FC16DE4C0>, <doc.Example object at 0x0000026FC16DE520>, <doc.Example object at 0x0000026FC16DE580>, <doc.Example object at 0x0000026FC16DE5E0>, <doc.Example object at 0x0000026FC16DE640>, <doc.Example object at 0x0000026FC16DE6A0>, <doc.Example object at 0x0000026FC16DE700>, <doc.Example object at 0x0000026FC16DE760>, <doc.Example object at 0x0000026FC16DE7C0>, <doc.Example object at 0x0000026FC16DE820>, <doc.Example object at 0x0000026FC16DE880>, <doc.Example object at 0x0000026FC16DE8E0>, <doc.Example object at 0x0000026FC16DE940>, <doc.Example object at 0x0000026FC16DE9A0>, <doc.Example object at 0x0000026FC16DEA00>, <doc.Example object at 0x0000026FC16DEA60>, <doc.Example object at 0x0000026FC16DEAC0>, <doc.Example object at 0x0000026FC16DEB20>, <doc.Example object at 0x0000026FC16DEB80>, <doc.Example object at 0x0000026FC16DEBE0>, <doc.Example object at 0x0000026FC16DEC40>, <doc.Example object at 0x0000026FC16DECA0>, <doc.Example object at 0x0000026FC16DED00>, <doc.Example object at 0x0000026FC16DED60>, <doc.Example object at 0x0000026FC16DEDC0>, <doc.Example object at 0x0000026FC16DEE20>, <doc.Example object at 0x0000026FC16DEE80>, <doc.Example object at 0x0000026FC16DEEE0>, <doc.Example object at 0x0000026FC16DEF40>, <doc.Example object at 0x0000026FC16DEFA0>, <doc.Example object at 0x0000026FC16E1040>, <doc.Example object at 0x0000026FC16E10A0>, <doc.Example object at 0x0000026FC16E1100>, <doc.Example object at 0x0000026FC16E1160>, <doc.Example object at 0x0000026FC16E11C0>, <doc.Example object at 0x0000026FC16E1220>, <doc.Example object at 0x0000026FC16E1280>, <doc.Example object at 0x0000026FC16E12E0>, <doc.Example object at 0x0000026FC16E1340>, <doc.Example object at 0x0000026FC16E13A0>, <doc.Example object at 0x0000026FC16E1400>, <doc.Example object at 0x0000026FC16E1460>, <doc.Example object at 0x0000026FC16E14C0>, <doc.Example object at 0x0000026FC16E1520>, <doc.Example object at 0x0000026FC16E1580>, <doc.Example object at 0x0000026FC16E15E0>, <doc.Example object at 0x0000026FC16E1640>, <doc.Example object at 0x0000026FC16E16A0>, <doc.Example object at 0x0000026FC16E1700>, <doc.Example object at 0x0000026FC16E1760>, <doc.Example object at 0x0000026FC16E17C0>, <doc.Example object at 0x0000026FC16E1820>, <doc.Example object at 0x0000026FC16E1880>, <doc.Example object at 0x0000026FC16E18E0>, <doc.Example object at 0x0000026FC16E1940>, <doc.Example object at 0x0000026FC16E19A0>, <doc.Example object at 0x0000026FC16E1A00>, <doc.Example object at 0x0000026FC16E1A60>, <doc.Example object at 0x0000026FC16E1AC0>, <doc.Example object at 0x0000026FC16E1B20>, <doc.Example object at 0x0000026FC16E1B80>, <doc.Example object at 0x0000026FC16E1BE0>, <doc.Example object at 0x0000026FC16E1C40>, <doc.Example object at 0x0000026FC16E1CA0>, <doc.Example object at 0x0000026FC16E1D00>, <doc.Example object at 0x0000026FC16E1D60>, <doc.Example object at 0x0000026FC16E1DC0>, <doc.Example object at 0x0000026FC16E1E20>, <doc.Example object at 0x0000026FC16E1E80>, <doc.Example object at 0x0000026FC16E1EE0>, <doc.Example object at 0x0000026FC16E1F40>, <doc.Example object at 0x0000026FC16E1FA0>, <doc.Example object at 0x0000026FC16E3040>, <doc.Example object at 0x0000026FC16E30A0>, <doc.Example object at 0x0000026FC16E3100>, <doc.Example object at 0x0000026FC16E3160>, <doc.Example object at 0x0000026FC16E31C0>, <doc.Example object at 0x0000026FC16E3220>, <doc.Example object at 0x0000026FC16E3280>, <doc.Example object at 0x0000026FC16E32E0>, <doc.Example object at 0x0000026FC16E3340>, <doc.Example object at 0x0000026FC16E33A0>, <doc.Example object at 0x0000026FC16E3400>, <doc.Example object at 0x0000026FC16E3460>, <doc.Example object at 0x0000026FC16E34C0>, <doc.Example object at 0x0000026FC16E3520>, <doc.Example object at 0x0000026FC16E3580>, <doc.Example object at 0x0000026FC16E35E0>, <doc.Example object at 0x0000026FC16E3640>, <doc.Example object at 0x0000026FC16E36A0>, <doc.Example object at 0x0000026FC16E3700>, <doc.Example object at 0x0000026FC16E3760>, <doc.Example object at 0x0000026FC16E37C0>, <doc.Example object at 0x0000026FC16E3820>, <doc.Example object at 0x0000026FC16E3880>, <doc.Example object at 0x0000026FC16E38E0>, <doc.Example object at 0x0000026FC16E3940>, <doc.Example object at 0x0000026FC16E39A0>, <doc.Example object at 0x0000026FC16E3A00>, <doc.Example object at 0x0000026FC16E3A60>, <doc.Example object at 0x0000026FC16E3AC0>, <doc.Example object at 0x0000026FC16E3B20>, <doc.Example object at 0x0000026FC16E3B80>, <doc.Example object at 0x0000026FC16E3BE0>, <doc.Example object at 0x0000026FC16E3C40>, <doc.Example object at 0x0000026FC16E3CA0>, <doc.Example object at 0x0000026FC16E3D00>, <doc.Example object at 0x0000026FC16E3D60>, <doc.Example object at 0x0000026FC16E3DC0>, <doc.Example object at 0x0000026FC16E3E20>, <doc.Example object at 0x0000026FC16E3E80>, <doc.Example object at 0x0000026FC16E3EE0>, <doc.Example object at 0x0000026FC16E3F40>, <doc.Example object at 0x0000026FC16E3FA0>, <doc.Example object at 0x0000026FC16E4040>, <doc.Example object at 0x0000026FC16E40A0>, <doc.Example object at 0x0000026FC16E4100>, <doc.Example object at 0x0000026FC16E4160>, <doc.Example object at 0x0000026FC16E41C0>, <doc.Example object at 0x0000026FC16E4220>, <doc.Example object at 0x0000026FC16E4280>, <doc.Example object at 0x0000026FC16E42E0>, <doc.Example object at 0x0000026FC16E4340>, <doc.Example object at 0x0000026FC16E43A0>, <doc.Example object at 0x0000026FC16E4400>, <doc.Example object at 0x0000026FC16E4460>, <doc.Example object at 0x0000026FC16E44C0>, <doc.Example object at 0x0000026FC16E4520>, <doc.Example object at 0x0000026FC16E4580>, <doc.Example object at 0x0000026FC16E45E0>, <doc.Example object at 0x0000026FC16E4640>, <doc.Example object at 0x0000026FC16E46A0>, <doc.Example object at 0x0000026FC16E4700>, <doc.Example object at 0x0000026FC16E4760>, <doc.Example object at 0x0000026FC16E47C0>, <doc.Example object at 0x0000026FC16E4820>, <doc.Example object at 0x0000026FC16E4880>, <doc.Example object at 0x0000026FC16E48E0>, <doc.Example object at 0x0000026FC16E4940>, <doc.Example object at 0x0000026FC16E49A0>, <doc.Example object at 0x0000026FC16E4A00>, <doc.Example object at 0x0000026FC16E4A60>, <doc.Example object at 0x0000026FC16E4AC0>, <doc.Example object at 0x0000026FC16E4B20>, <doc.Example object at 0x0000026FC16E4B80>, <doc.Example object at 0x0000026FC16E4BE0>, <doc.Example object at 0x0000026FC16E4C40>, <doc.Example object at 0x0000026FC16E4CA0>, <doc.Example object at 0x0000026FC16E4D00>, <doc.Example object at 0x0000026FC16E4D60>, <doc.Example object at 0x0000026FC16E4DC0>, <doc.Example object at 0x0000026FC16E4E20>, <doc.Example object at 0x0000026FC16E4E80>, <doc.Example object at 0x0000026FC16E4EE0>, <doc.Example object at 0x0000026FC16E4F40>, <doc.Example object at 0x0000026FC16E4FA0>, <doc.Example object at 0x0000026FC16E6040>, <doc.Example object at 0x0000026FC16E60A0>, <doc.Example object at 0x0000026FC16E6100>, <doc.Example object at 0x0000026FC16E6160>, <doc.Example object at 0x0000026FC16E61C0>, <doc.Example object at 0x0000026FC16E6220>, <doc.Example object at 0x0000026FC16E6280>, <doc.Example object at 0x0000026FC16E62E0>, <doc.Example object at 0x0000026FC16E6340>, <doc.Example object at 0x0000026FC16E63A0>, <doc.Example object at 0x0000026FC16E6400>, <doc.Example object at 0x0000026FC16E6460>, <doc.Example object at 0x0000026FC16E64C0>, <doc.Example object at 0x0000026FC16E6520>, <doc.Example object at 0x0000026FC16E6580>, <doc.Example object at 0x0000026FC16E65E0>, <doc.Example object at 0x0000026FC16E6640>, <doc.Example object at 0x0000026FC16E66A0>, <doc.Example object at 0x0000026FC16E6700>, <doc.Example object at 0x0000026FC16E6760>, <doc.Example object at 0x0000026FC16E67C0>, <doc.Example object at 0x0000026FC16E6820>, <doc.Example object at 0x0000026FC16E6880>, <doc.Example object at 0x0000026FC16E68E0>, <doc.Example object at 0x0000026FC16E6940>, <doc.Example object at 0x0000026FC16E69A0>, <doc.Example object at 0x0000026FC16E6A00>, <doc.Example object at 0x0000026FC16E6A60>, <doc.Example object at 0x0000026FC16E6AC0>, <doc.Example object at 0x0000026FC16E6B20>, <doc.Example object at 0x0000026FC16E6B80>, <doc.Example object at 0x0000026FC16E6BE0>, <doc.Example object at 0x0000026FC16E6C40>, <doc.Example object at 0x0000026FC16E6CA0>, <doc.Example object at 0x0000026FC16E6D00>, <doc.Example object at 0x0000026FC16E6D60>, <doc.Example object at 0x0000026FC16E6DC0>, <doc.Example object at 0x0000026FC16E6E20>, <doc.Example object at 0x0000026FC16E6E80>, <doc.Example object at 0x0000026FC16E6EE0>, <doc.Example object at 0x0000026FC16E6F40>, <doc.Example object at 0x0000026FC16E6FA0>, <doc.Example object at 0x0000026FC16E8040>, <doc.Example object at 0x0000026FC16E80A0>, <doc.Example object at 0x0000026FC16E8100>, <doc.Example object at 0x0000026FC16E8160>, <doc.Example object at 0x0000026FC16E81C0>, <doc.Example object at 0x0000026FC16E8220>, <doc.Example object at 0x0000026FC16E8280>, <doc.Example object at 0x0000026FC16E82E0>, <doc.Example object at 0x0000026FC16E8340>, <doc.Example object at 0x0000026FC16E83A0>, <doc.Example object at 0x0000026FC16E8400>, <doc.Example object at 0x0000026FC16E8460>, <doc.Example object at 0x0000026FC16E84C0>, <doc.Example object at 0x0000026FC16E8520>, <doc.Example object at 0x0000026FC16E8580>, <doc.Example object at 0x0000026FC16E85E0>, <doc.Example object at 0x0000026FC16E8640>, <doc.Example object at 0x0000026FC16E86A0>, <doc.Example object at 0x0000026FC16E8700>, <doc.Example object at 0x0000026FC16E8760>, <doc.Example object at 0x0000026FC16E87C0>, <doc.Example object at 0x0000026FC16E8820>, <doc.Example object at 0x0000026FC16E8880>, <doc.Example object at 0x0000026FC16E88E0>, <doc.Example object at 0x0000026FC16E8940>, <doc.Example object at 0x0000026FC16E89A0>, <doc.Example object at 0x0000026FC16E8A00>, <doc.Example object at 0x0000026FC16E8A60>, <doc.Example object at 0x0000026FC16E8AC0>, <doc.Example object at 0x0000026FC16E8B20>, <doc.Example object at 0x0000026FC16E8B80>, <doc.Example object at 0x0000026FC16E8BE0>, <doc.Example object at 0x0000026FC16E8C40>, <doc.Example object at 0x0000026FC16E8CA0>, <doc.Example object at 0x0000026FC16E8D00>, <doc.Example object at 0x0000026FC16E8D60>, <doc.Example object at 0x0000026FC16E8DC0>, <doc.Example object at 0x0000026FC16E8E20>, <doc.Example object at 0x0000026FC16E8E80>, <doc.Example object at 0x0000026FC16E8EE0>, <doc.Example object at 0x0000026FC16E8F40>, <doc.Example object at 0x0000026FC16E8FA0>, <doc.Example object at 0x0000026FC16E9040>, <doc.Example object at 0x0000026FC16E90A0>, <doc.Example object at 0x0000026FC16E9100>, <doc.Example object at 0x0000026FC16E9160>, <doc.Example object at 0x0000026FC16E91C0>, <doc.Example object at 0x0000026FC16E9220>, <doc.Example object at 0x0000026FC16E9280>, <doc.Example object at 0x0000026FC16E92E0>, <doc.Example object at 0x0000026FC16E9340>, <doc.Example object at 0x0000026FC16E93A0>, <doc.Example object at 0x0000026FC16E9400>, <doc.Example object at 0x0000026FC16E9460>, <doc.Example object at 0x0000026FC16E94C0>, <doc.Example object at 0x0000026FC16E9520>, <doc.Example object at 0x0000026FC16E9580>, <doc.Example object at 0x0000026FC16E95E0>, <doc.Example object at 0x0000026FC16E9640>, <doc.Example object at 0x0000026FC16E96A0>, <doc.Example object at 0x0000026FC16E9700>, <doc.Example object at 0x0000026FC16E9760>, <doc.Example object at 0x0000026FC16E97C0>, <doc.Example object at 0x0000026FC16E9820>, <doc.Example object at 0x0000026FC16E9880>, <doc.Example object at 0x0000026FC16E98E0>, <doc.Example object at 0x0000026FC16E9940>, <doc.Example object at 0x0000026FC16E99A0>, <doc.Example object at 0x0000026FC16E9A00>, <doc.Example object at 0x0000026FC16E9A60>, <doc.Example object at 0x0000026FC16E9AC0>, <doc.Example object at 0x0000026FC16E9B20>, <doc.Example object at 0x0000026FC16E9B80>, <doc.Example object at 0x0000026FC16E9BE0>, <doc.Example object at 0x0000026FC16E9C40>, <doc.Example object at 0x0000026FC16E9CA0>, <doc.Example object at 0x0000026FC16E9D00>, <doc.Example object at 0x0000026FC16E9D60>, <doc.Example object at 0x0000026FC16E9DC0>, <doc.Example object at 0x0000026FC16E9E20>, <doc.Example object at 0x0000026FC16E9E80>, <doc.Example object at 0x0000026FC16E9EE0>, <doc.Example object at 0x0000026FC16E9F40>, <doc.Example object at 0x0000026FC16E9FA0>, <doc.Example object at 0x0000026FC16EC040>, <doc.Example object at 0x0000026FC16EC0A0>, <doc.Example object at 0x0000026FC16EC100>, <doc.Example object at 0x0000026FC16EC160>, <doc.Example object at 0x0000026FC16EC1C0>, <doc.Example object at 0x0000026FC16EC220>, <doc.Example object at 0x0000026FC16EC280>, <doc.Example object at 0x0000026FC16EC2E0>, <doc.Example object at 0x0000026FC16EC340>, <doc.Example object at 0x0000026FC16EC3A0>, <doc.Example object at 0x0000026FC16EC400>, <doc.Example object at 0x0000026FC16EC460>, <doc.Example object at 0x0000026FC16EC4C0>, <doc.Example object at 0x0000026FC16EC520>, <doc.Example object at 0x0000026FC16EC580>, <doc.Example object at 0x0000026FC16EC5E0>, <doc.Example object at 0x0000026FC16EC640>, <doc.Example object at 0x0000026FC16EC6A0>, <doc.Example object at 0x0000026FC16EC700>, <doc.Example object at 0x0000026FC16EC760>, <doc.Example object at 0x0000026FC16EC7C0>, <doc.Example object at 0x0000026FC16EC820>, <doc.Example object at 0x0000026FC16EC880>, <doc.Example object at 0x0000026FC16EC8E0>, <doc.Example object at 0x0000026FC16EC940>, <doc.Example object at 0x0000026FC16EC9A0>, <doc.Example object at 0x0000026FC16ECA00>, <doc.Example object at 0x0000026FC16ECA60>, <doc.Example object at 0x0000026FC16ECAC0>, <doc.Example object at 0x0000026FC16ECB20>, <doc.Example object at 0x0000026FC16ECB80>, <doc.Example object at 0x0000026FC16ECBE0>, <doc.Example object at 0x0000026FC16ECC40>, <doc.Example object at 0x0000026FC16ECCA0>, <doc.Example object at 0x0000026FC16ECD00>, <doc.Example object at 0x0000026FC16ECD60>, <doc.Example object at 0x0000026FC16ECDC0>, <doc.Example object at 0x0000026FC16ECE20>, <doc.Example object at 0x0000026FC16ECE80>, <doc.Example object at 0x0000026FC16ECEE0>, <doc.Example object at 0x0000026FC16ECF40>, <doc.Example object at 0x0000026FC16ECFA0>, <doc.Example object at 0x0000026FC16ED040>, <doc.Example object at 0x0000026FC16ED0A0>, <doc.Example object at 0x0000026FC16ED100>, <doc.Example object at 0x0000026FC16ED160>, <doc.Example object at 0x0000026FC16ED1C0>, <doc.Example object at 0x0000026FC16ED220>, <doc.Example object at 0x0000026FC16ED280>, <doc.Example object at 0x0000026FC16ED2E0>, <doc.Example object at 0x0000026FC16ED340>, <doc.Example object at 0x0000026FC16ED3A0>, <doc.Example object at 0x0000026FC16ED400>, <doc.Example object at 0x0000026FC16ED460>, <doc.Example object at 0x0000026FC16ED4C0>, <doc.Example object at 0x0000026FC16ED520>, <doc.Example object at 0x0000026FC16ED580>, <doc.Example object at 0x0000026FC16ED5E0>, <doc.Example object at 0x0000026FC16ED640>, <doc.Example object at 0x0000026FC16ED6A0>, <doc.Example object at 0x0000026FC16ED700>, <doc.Example object at 0x0000026FC16ED760>, <doc.Example object at 0x0000026FC16ED7C0>, <doc.Example object at 0x0000026FC16ED820>, <doc.Example object at 0x0000026FC16ED880>, <doc.Example object at 0x0000026FC16ED8E0>, <doc.Example object at 0x0000026FC16ED940>, <doc.Example object at 0x0000026FC16ED9A0>, <doc.Example object at 0x0000026FC16EDA00>, <doc.Example object at 0x0000026FC16EDA60>, <doc.Example object at 0x0000026FC16EDAC0>, <doc.Example object at 0x0000026FC16EDB20>, <doc.Example object at 0x0000026FC16EDB80>, <doc.Example object at 0x0000026FC16EDBE0>, <doc.Example object at 0x0000026FC16EDC40>, <doc.Example object at 0x0000026FC16EDCA0>], 'triplet_mask': tensor([[True, True, True,  ..., True, True, True],\n",
      "        [True, True, True,  ..., True, True, True],\n",
      "        [True, True, True,  ..., True, True, True],\n",
      "        ...,\n",
      "        [True, True, True,  ..., True, True, True],\n",
      "        [True, True, True,  ..., True, True, True],\n",
      "        [True, True, True,  ..., True, True, True]]), 'self_negative_mask': tensor([True, True, True,  ..., True, True, True])}\n"
     ]
    },
    {
     "name": "stderr",
     "output_type": "stream",
     "text": [
      "2022-05-26 15:47:16.258924: W tensorflow/stream_executor/platform/default/dso_loader.cc:64] Could not load dynamic library 'cudart64_110.dll'; dlerror: cudart64_110.dll not found\n",
      "2022-05-26 15:47:16.259483: I tensorflow/stream_executor/cuda/cudart_stub.cc:29] Ignore above cudart dlerror if you do not have a GPU set up on your machine.\n",
      "[2022-05-26 15:47:22,274 INFO] Load 14541 entities from data/FB15k237\\entities.json\n",
      "[2022-05-26 15:47:22,274 INFO] Triplets path: ['data/FB15k237/train.txt.json']\n",
      "[2022-05-26 15:47:23,770 INFO] Triplet statistics: 474 relations, 544230 triplets\n",
      "[2022-05-26 15:47:23,771 INFO] Start to build link graph from data/FB15k237/train.txt.json\n",
      "[2022-05-26 15:47:24,497 INFO] Done build link graph with 14505 nodes\n",
      "[2022-05-26 15:47:24,587 INFO] In test mode: False\n",
      "[2022-05-26 15:47:25,006 INFO] Load 272115 examples from data/FB15k237/train.txt.json\n",
      "2022-05-26 15:47:29.050673: W tensorflow/stream_executor/platform/default/dso_loader.cc:64] Could not load dynamic library 'cudart64_110.dll'; dlerror: cudart64_110.dll not found\n",
      "2022-05-26 15:47:29.050941: I tensorflow/stream_executor/cuda/cudart_stub.cc:29] Ignore above cudart dlerror if you do not have a GPU set up on your machine.\n",
      "[2022-05-26 15:47:33,266 INFO] Load 14541 entities from data/FB15k237\\entities.json\n",
      "[2022-05-26 15:47:33,266 INFO] Triplets path: ['data/FB15k237/train.txt.json']\n",
      "[2022-05-26 15:47:34,721 INFO] Triplet statistics: 474 relations, 544230 triplets\n",
      "[2022-05-26 15:47:34,721 INFO] Start to build link graph from data/FB15k237/train.txt.json\n",
      "[2022-05-26 15:47:35,407 INFO] Done build link graph with 14505 nodes\n",
      "2022-05-26 15:47:39.873682: W tensorflow/stream_executor/platform/default/dso_loader.cc:64] Could not load dynamic library 'cudart64_110.dll'; dlerror: cudart64_110.dll not found\n",
      "2022-05-26 15:47:39.874025: I tensorflow/stream_executor/cuda/cudart_stub.cc:29] Ignore above cudart dlerror if you do not have a GPU set up on your machine.\n",
      "[2022-05-26 15:47:44,104 INFO] Load 14541 entities from data/FB15k237\\entities.json\n",
      "[2022-05-26 15:47:44,104 INFO] Triplets path: ['data/FB15k237/train.txt.json']\n",
      "[2022-05-26 15:47:45,602 INFO] Triplet statistics: 474 relations, 544230 triplets\n",
      "[2022-05-26 15:47:45,602 INFO] Start to build link graph from data/FB15k237/train.txt.json\n",
      "[2022-05-26 15:47:46,319 INFO] Done build link graph with 14505 nodes\n",
      "2022-05-26 15:47:51.045770: W tensorflow/stream_executor/platform/default/dso_loader.cc:64] Could not load dynamic library 'cudart64_110.dll'; dlerror: cudart64_110.dll not found\n",
      "2022-05-26 15:47:51.046087: I tensorflow/stream_executor/cuda/cudart_stub.cc:29] Ignore above cudart dlerror if you do not have a GPU set up on your machine.\n",
      "[2022-05-26 15:47:55,844 INFO] Load 14541 entities from data/FB15k237\\entities.json\n",
      "[2022-05-26 15:47:55,844 INFO] Triplets path: ['data/FB15k237/train.txt.json']\n",
      "[2022-05-26 15:47:57,380 INFO] Triplet statistics: 474 relations, 544230 triplets\n",
      "[2022-05-26 15:47:57,380 INFO] Start to build link graph from data/FB15k237/train.txt.json\n",
      "[2022-05-26 15:47:58,161 INFO] Done build link graph with 14505 nodes\n",
      "2022-05-26 15:48:04.071458: W tensorflow/stream_executor/platform/default/dso_loader.cc:64] Could not load dynamic library 'cudart64_110.dll'; dlerror: cudart64_110.dll not found\n",
      "2022-05-26 15:48:04.071814: I tensorflow/stream_executor/cuda/cudart_stub.cc:29] Ignore above cudart dlerror if you do not have a GPU set up on your machine.\n",
      "[2022-05-26 15:48:08,872 INFO] Load 14541 entities from data/FB15k237\\entities.json\n",
      "[2022-05-26 15:48:08,872 INFO] Triplets path: ['data/FB15k237/train.txt.json']\n",
      "[2022-05-26 15:48:10,399 INFO] Triplet statistics: 474 relations, 544230 triplets\n",
      "[2022-05-26 15:48:10,400 INFO] Start to build link graph from data/FB15k237/train.txt.json\n",
      "[2022-05-26 15:48:11,384 INFO] Done build link graph with 14505 nodes\n",
      "[2022-05-26 15:48:17,002 INFO] Build tokenizer from bert-base-uncased\n",
      "[2022-05-26 15:48:17,003 INFO] Build tokenizer from bert-base-uncased\n",
      "[2022-05-26 15:48:17,003 INFO] Build tokenizer from bert-base-uncased\n",
      "[2022-05-26 15:48:17,039 INFO] Build tokenizer from bert-base-uncased\n"
     ]
    }
   ],
   "source": [
    "!python -u main.py \\\n",
    "--model-dir \"ouput\" \\\n",
    "--pretrained-model bert-base-uncased \\\n",
    "--pooling mean \\\n",
    "--lr 1e-5 \\\n",
    "--use-link-graph \\\n",
    "--train-path \"data/FB15k237/train.txt.json\" \\\n",
    "--valid-path \"data/FB15k237/valid.txt.json\" \\\n",
    "--commonsense-path \"data/FB15k237\" \\\n",
    "--head-ns-cnt 32\\\n",
    "--tail-ns-cnt 32\\\n",
    "--task FB15k237 \\\n",
    "--batch-size 1024 \\\n",
    "--print-freq 20 \\\n",
    "--additive-margin 0.02 \\\n",
    "--use-amp \\\n",
    "--use-self-negative \\\n",
    "--finetune-t \\\n",
    "--pre-batch 2 \\\n",
    "--epochs 18 \\\n",
    "--workers 4 \\\n",
    "--max-to-keep 5 "
   ]
  },
  {
   "cell_type": "code",
   "execution_count": 4,
   "metadata": {},
   "outputs": [
    {
     "name": "stderr",
     "output_type": "stream",
     "text": [
      "Traceback (most recent call last):\n",
      "  File \"e:\\University\\Year 3 Spring\\Exchange\\ETH\\Lectures\\Computational Semantics\\Project\\CocaKE_Bruce\\CocaKE_ver3\\evaluate.py\", line 10, in <module>\n",
      "    from config import args\n",
      "  File \"e:\\University\\Year 3 Spring\\Exchange\\ETH\\Lectures\\Computational Semantics\\Project\\CocaKE_Bruce\\CocaKE_ver3\\config.py\", line 96, in <module>\n",
      "    assert os.path.exists(args.eval_model_path), 'One of args.model_dir and args.eval_model_path should be valid path'\n",
      "AssertionError: One of args.model_dir and args.eval_model_path should be valid path\n"
     ]
    }
   ],
   "source": [
    "!python -u evaluate.py \\\n",
    "--task FB15k237 \\\n",
    "--is-test \\\n",
    "--eval-model-path \"ouput/model_best.mdl\" \\\n",
    "--neighbor-weight 0.05 \\\n",
    "--rerank-n-hop 2 \\\n",
    "--train-path \"data/FB15k237/train.txt.json\" \\\n",
    "--valid-path \"data/FB15k237/test.txt.json\" "
   ]
  },
  {
   "cell_type": "code",
   "execution_count": null,
   "metadata": {
    "id": "q-FE8xIpT_iS"
   },
   "outputs": [],
   "source": []
  }
 ],
 "metadata": {
  "accelerator": "GPU",
  "colab": {
   "collapsed_sections": [],
   "name": "CocaKE.ipynb",
   "provenance": []
  },
  "interpreter": {
   "hash": "91bb753b057673435fb8d6f6a083e6c818364728098c7ae050ca3a25357dd754"
  },
  "kernelspec": {
   "display_name": "Python 3 (ipykernel)",
   "language": "python",
   "name": "python3"
  },
  "language_info": {
   "codemirror_mode": {
    "name": "ipython",
    "version": 3
   },
   "file_extension": ".py",
   "mimetype": "text/x-python",
   "name": "python",
   "nbconvert_exporter": "python",
   "pygments_lexer": "ipython3",
   "version": "3.9.7"
  }
 },
 "nbformat": 4,
 "nbformat_minor": 1
}
