{
 "cells": [
  {
   "cell_type": "code",
   "execution_count": 1,
   "metadata": {
    "colab": {
     "base_uri": "https://localhost:8080/"
    },
    "executionInfo": {
     "elapsed": 8236,
     "status": "ok",
     "timestamp": 1653378015397,
     "user": {
      "displayName": "Bruce HU",
      "userId": "02309357718155453395"
     },
     "user_tz": -120
    },
    "id": "vZwq84Xtc1JK",
    "outputId": "1dab5771-2d2b-4a69-9ea5-28dfa329f4c7"
   },
   "outputs": [
    {
     "name": "stdout",
     "output_type": "stream",
     "text": [
      "Collecting transformers\n",
      "  Downloading transformers-4.19.2-py3-none-any.whl (4.2 MB)\n",
      "\u001b[K     |████████████████████████████████| 4.2 MB 3.3 MB/s eta 0:00:01\n",
      "\u001b[?25hCollecting huggingface-hub<1.0,>=0.1.0\n",
      "  Downloading huggingface_hub-0.7.0-py3-none-any.whl (86 kB)\n",
      "\u001b[K     |████████████████████████████████| 86 kB 13.0 MB/s eta 0:00:01\n",
      "\u001b[?25hCollecting regex!=2019.12.17\n",
      "  Downloading regex-2022.4.24-cp38-cp38-manylinux_2_17_x86_64.manylinux2014_x86_64.whl (764 kB)\n",
      "\u001b[K     |████████████████████████████████| 764 kB 48.6 MB/s eta 0:00:01\n",
      "\u001b[?25hCollecting tokenizers!=0.11.3,<0.13,>=0.11.1\n",
      "  Downloading tokenizers-0.12.1-cp38-cp38-manylinux_2_12_x86_64.manylinux2010_x86_64.whl (6.6 MB)\n",
      "\u001b[K     |████████████████████████████████| 6.6 MB 45.7 MB/s eta 0:00:01     |█████████▉                      | 2.0 MB 45.7 MB/s eta 0:00:01\n",
      "\u001b[?25hRequirement already satisfied: tqdm>=4.27 in /opt/conda/lib/python3.8/site-packages (from transformers) (4.62.3)\n",
      "Requirement already satisfied: pyyaml>=5.1 in /opt/conda/lib/python3.8/site-packages (from transformers) (6.0)\n",
      "Requirement already satisfied: packaging>=20.0 in /opt/conda/lib/python3.8/site-packages (from transformers) (21.3)\n",
      "Requirement already satisfied: numpy>=1.17 in /opt/conda/lib/python3.8/site-packages (from transformers) (1.21.2)\n",
      "Requirement already satisfied: filelock in /opt/conda/lib/python3.8/site-packages (from transformers) (3.4.2)\n",
      "Requirement already satisfied: requests in /opt/conda/lib/python3.8/site-packages (from transformers) (2.27.1)\n",
      "Requirement already satisfied: typing-extensions>=3.7.4.3 in /opt/conda/lib/python3.8/site-packages (from huggingface-hub<1.0,>=0.1.0->transformers) (3.10.0.2)\n",
      "Requirement already satisfied: pyparsing!=3.0.5,>=2.0.2 in /opt/conda/lib/python3.8/site-packages (from packaging>=20.0->transformers) (3.0.9)\n",
      "Requirement already satisfied: charset-normalizer~=2.0.0 in /opt/conda/lib/python3.8/site-packages (from requests->transformers) (2.0.4)\n",
      "Requirement already satisfied: idna<4,>=2.5 in /opt/conda/lib/python3.8/site-packages (from requests->transformers) (3.3)\n",
      "Requirement already satisfied: certifi>=2017.4.17 in /opt/conda/lib/python3.8/site-packages (from requests->transformers) (2021.10.8)\n",
      "Requirement already satisfied: urllib3<1.27,>=1.21.1 in /opt/conda/lib/python3.8/site-packages (from requests->transformers) (1.26.7)\n",
      "Installing collected packages: tokenizers, regex, huggingface-hub, transformers\n",
      "Successfully installed huggingface-hub-0.7.0 regex-2022.4.24 tokenizers-0.12.1 transformers-4.19.2\n",
      "\u001b[33mWARNING: Running pip as the 'root' user can result in broken permissions and conflicting behaviour with the system package manager. It is recommended to use a virtual environment instead: https://pip.pypa.io/warnings/venv\u001b[0m\n"
     ]
    }
   ],
   "source": [
    "!pip install transformers"
   ]
  },
  {
   "cell_type": "code",
   "execution_count": 4,
   "metadata": {},
   "outputs": [
    {
     "name": "stderr",
     "output_type": "stream",
     "text": [
      "Traceback (most recent call last):\n",
      "  File \"e:\\University\\Year 3 Spring\\Exchange\\ETH\\Lectures\\Computational Semantics\\Project\\CocaKE_Bruce\\CocaKE_ver4\\preprocess.py\", line 22, in <module>\n",
      "    mp.set_start_method('fork')\n",
      "  File \"e:\\Anaconda\\lib\\multiprocessing\\context.py\", line 247, in set_start_method\n",
      "    self._actual_context = self.get_context(method)\n",
      "  File \"e:\\Anaconda\\lib\\multiprocessing\\context.py\", line 239, in get_context\n",
      "    return super().get_context(method)\n",
      "  File \"e:\\Anaconda\\lib\\multiprocessing\\context.py\", line 193, in get_context\n",
      "    raise ValueError('cannot find context for %r' % method) from None\n",
      "ValueError: cannot find context for 'fork'\n"
     ]
    }
   ],
   "source": [
    "!python -u preprocess.py --task \"FB15k237\" \\\n",
    "--train-path \"data/FB15k237/train.txt\" \\\n",
    "--valid-path \"data/FB15k237/valid.txt\" \\\n",
    "--test-path \"data/FB15k237/test.txt\""
   ]
  },
  {
   "cell_type": "code",
   "execution_count": 7,
   "metadata": {
    "colab": {
     "base_uri": "https://localhost:8080/"
    },
    "executionInfo": {
     "elapsed": 208,
     "status": "ok",
     "timestamp": 1652736004094,
     "user": {
      "displayName": "Bruce HU",
      "userId": "02309357718155453395"
     },
     "user_tz": -120
    },
    "id": "fsHAPIyscjw_",
    "outputId": "4bd64e57-cb84-4f99-c0be-95e94e4e4d00"
   },
   "outputs": [
    {
     "name": "stderr",
     "output_type": "stream",
     "text": [
      "2022-05-26 11:46:52.418444: W tensorflow/stream_executor/platform/default/dso_loader.cc:64] Could not load dynamic library 'cudart64_110.dll'; dlerror: cudart64_110.dll not found\n",
      "2022-05-26 11:46:52.418764: I tensorflow/stream_executor/cuda/cudart_stub.cc:29] Ignore above cudart dlerror if you do not have a GPU set up on your machine.\n",
      "[2022-05-26 11:46:58,648 INFO] Load 14541 entities from data/FB15k237\\entities.json\n",
      "[2022-05-26 11:46:58,648 INFO] Triplets path: ['data/FB15k237/train.txt.json']\n",
      "[2022-05-26 11:47:00,730 INFO] Triplet statistics: 474 relations, 544230 triplets\n",
      "[2022-05-26 11:47:00,730 INFO] Start to build link graph from data/FB15k237/train.txt.json\n",
      "[2022-05-26 11:47:01,623 INFO] Done build link graph with 14505 nodes\n",
      "[2022-05-26 11:47:01,728 INFO] In test mode: False\n",
      "[2022-05-26 11:47:02,210 INFO] Load 272115 examples from data/FB15k237/train.txt.json\n",
      "2022-05-26 11:47:07.219982: W tensorflow/stream_executor/platform/default/dso_loader.cc:64] Could not load dynamic library 'cudart64_110.dll'; dlerror: cudart64_110.dll not found\n",
      "2022-05-26 11:47:07.220290: I tensorflow/stream_executor/cuda/cudart_stub.cc:29] Ignore above cudart dlerror if you do not have a GPU set up on your machine.\n",
      "[2022-05-26 11:47:12,468 INFO] Load 14541 entities from data/FB15k237\\entities.json\n",
      "[2022-05-26 11:47:12,468 INFO] Triplets path: ['data/FB15k237/train.txt.json']\n",
      "[2022-05-26 11:47:14,461 INFO] Triplet statistics: 474 relations, 544230 triplets\n",
      "[2022-05-26 11:47:14,462 INFO] Start to build link graph from data/FB15k237/train.txt.json\n",
      "[2022-05-26 11:47:15,367 INFO] Done build link graph with 14505 nodes\n",
      "2022-05-26 11:47:21.151744: W tensorflow/stream_executor/platform/default/dso_loader.cc:64] Could not load dynamic library 'cudart64_110.dll'; dlerror: cudart64_110.dll not found\n",
      "2022-05-26 11:47:21.152094: I tensorflow/stream_executor/cuda/cudart_stub.cc:29] Ignore above cudart dlerror if you do not have a GPU set up on your machine.\n",
      "[2022-05-26 11:47:26,778 INFO] Load 14541 entities from data/FB15k237\\entities.json\n",
      "[2022-05-26 11:47:26,778 INFO] Triplets path: ['data/FB15k237/train.txt.json']\n",
      "[2022-05-26 11:47:28,611 INFO] Triplet statistics: 474 relations, 544230 triplets\n",
      "[2022-05-26 11:47:28,612 INFO] Start to build link graph from data/FB15k237/train.txt.json\n",
      "[2022-05-26 11:47:29,638 INFO] Done build link graph with 14505 nodes\n",
      "2022-05-26 11:47:35.465564: W tensorflow/stream_executor/platform/default/dso_loader.cc:64] Could not load dynamic library 'cudart64_110.dll'; dlerror: cudart64_110.dll not found\n",
      "2022-05-26 11:47:35.465921: I tensorflow/stream_executor/cuda/cudart_stub.cc:29] Ignore above cudart dlerror if you do not have a GPU set up on your machine.\n",
      "[2022-05-26 11:47:41,051 INFO] Load 14541 entities from data/FB15k237\\entities.json\n",
      "[2022-05-26 11:47:41,052 INFO] Triplets path: ['data/FB15k237/train.txt.json']\n",
      "[2022-05-26 11:47:43,057 INFO] Triplet statistics: 474 relations, 544230 triplets\n",
      "[2022-05-26 11:47:43,057 INFO] Start to build link graph from data/FB15k237/train.txt.json\n",
      "[2022-05-26 11:47:43,980 INFO] Done build link graph with 14505 nodes\n",
      "2022-05-26 11:47:49.967436: W tensorflow/stream_executor/platform/default/dso_loader.cc:64] Could not load dynamic library 'cudart64_110.dll'; dlerror: cudart64_110.dll not found\n",
      "2022-05-26 11:47:49.967762: I tensorflow/stream_executor/cuda/cudart_stub.cc:29] Ignore above cudart dlerror if you do not have a GPU set up on your machine.\n",
      "[2022-05-26 11:47:55,677 INFO] Load 14541 entities from data/FB15k237\\entities.json\n",
      "[2022-05-26 11:47:55,677 INFO] Triplets path: ['data/FB15k237/train.txt.json']\n",
      "[2022-05-26 11:47:57,690 INFO] Triplet statistics: 474 relations, 544230 triplets\n",
      "[2022-05-26 11:47:57,690 INFO] Start to build link graph from data/FB15k237/train.txt.json\n",
      "[2022-05-26 11:47:58,710 INFO] Done build link graph with 14505 nodes\n",
      "[2022-05-26 11:48:05,475 INFO] Build tokenizer from bert-base-uncased\n",
      "[2022-05-26 11:48:05,499 INFO] Build tokenizer from bert-base-uncased\n",
      "[2022-05-26 11:48:05,499 INFO] Build tokenizer from bert-base-uncased\n",
      "[2022-05-26 11:48:05,527 INFO] Build tokenizer from bert-base-uncased\n",
      "Traceback (most recent call last):\n",
      "  File \"e:\\University\\Year 3 Spring\\Exchange\\ETH\\Lectures\\Computational Semantics\\Project\\CocaKE_Bruce\\CocaKE_ver4\\main.py\", line 32, in <module>\n",
      "    print(next(iter(train_loader)))\n",
      "  File \"e:\\Anaconda\\lib\\site-packages\\torch\\utils\\data\\dataloader.py\", line 517, in __next__\n",
      "    data = self._next_data()\n",
      "  File \"e:\\Anaconda\\lib\\site-packages\\torch\\utils\\data\\dataloader.py\", line 1199, in _next_data\n",
      "    return self._process_data(data)\n",
      "  File \"e:\\Anaconda\\lib\\site-packages\\torch\\utils\\data\\dataloader.py\", line 1225, in _process_data\n",
      "    data.reraise()\n",
      "  File \"e:\\Anaconda\\lib\\site-packages\\torch\\_utils.py\", line 429, in reraise\n",
      "    raise self.exc_type(msg)\n",
      "IndexError: Caught IndexError in DataLoader worker process 0.\n",
      "Original Traceback (most recent call last):\n",
      "  File \"e:\\Anaconda\\lib\\site-packages\\torch\\utils\\data\\_utils\\worker.py\", line 202, in _worker_loop\n",
      "    data = fetcher.fetch(index)\n",
      "  File \"e:\\Anaconda\\lib\\site-packages\\torch\\utils\\data\\_utils\\fetch.py\", line 44, in fetch\n",
      "    data = [self.dataset[idx] for idx in possibly_batched_index]\n",
      "  File \"e:\\Anaconda\\lib\\site-packages\\torch\\utils\\data\\_utils\\fetch.py\", line 44, in <listcomp>\n",
      "    data = [self.dataset[idx] for idx in possibly_batched_index]\n",
      "  File \"e:\\University\\Year 3 Spring\\Exchange\\ETH\\Lectures\\Computational Semantics\\Project\\CocaKE_Bruce\\CocaKE_ver4\\doc.py\", line 243, in __getitem__\n",
      "    corrupted_head = self.corrupt_head(selected_example, self.head_ns_cnt)\n",
      "  File \"e:\\University\\Year 3 Spring\\Exchange\\ETH\\Lectures\\Computational Semantics\\Project\\CocaKE_Bruce\\CocaKE_ver4\\doc.py\", line 204, in corrupt_head\n",
      "    return random.choices(list(h), k=head_ns_cnt)\n",
      "  File \"e:\\Anaconda\\lib\\random.py\", line 486, in choices\n",
      "    return [population[floor(random() * n)] for i in _repeat(None, k)]\n",
      "  File \"e:\\Anaconda\\lib\\random.py\", line 486, in <listcomp>\n",
      "    return [population[floor(random() * n)] for i in _repeat(None, k)]\n",
      "IndexError: list index out of range\n",
      "\n"
     ]
    }
   ],
   "source": [
    "!python -u main.py \\\n",
    "--model-dir \"ouput\" \\\n",
    "--pretrained-model bert-base-uncased \\\n",
    "--pooling mean \\\n",
    "--lr 1e-5 \\\n",
    "--use-link-graph \\\n",
    "--train-path \"data/FB15k237/train.txt.json\" \\\n",
    "--valid-path \"data/FB15k237/valid.txt.json\" \\\n",
    "--commonsense-path \"data/FB15k237\" \\\n",
    "--task FB15k237 \\\n",
    "--batch-size 1024 \\\n",
    "--print-freq 20 \\\n",
    "--additive-margin 0.02 \\\n",
    "--use-amp \\\n",
    "--use-self-negative \\\n",
    "--finetune-t \\\n",
    "--pre-batch 2 \\\n",
    "--epochs 18 \\\n",
    "--workers 4 \\\n",
    "--rel-per-batch 8\\\n",
    "--max-to-keep 5 "
   ]
  },
  {
   "cell_type": "code",
   "execution_count": 4,
   "metadata": {},
   "outputs": [
    {
     "name": "stderr",
     "output_type": "stream",
     "text": [
      "Traceback (most recent call last):\n",
      "  File \"e:\\University\\Year 3 Spring\\Exchange\\ETH\\Lectures\\Computational Semantics\\Project\\CocaKE_Bruce\\CocaKE_ver3\\evaluate.py\", line 10, in <module>\n",
      "    from config import args\n",
      "  File \"e:\\University\\Year 3 Spring\\Exchange\\ETH\\Lectures\\Computational Semantics\\Project\\CocaKE_Bruce\\CocaKE_ver3\\config.py\", line 96, in <module>\n",
      "    assert os.path.exists(args.eval_model_path), 'One of args.model_dir and args.eval_model_path should be valid path'\n",
      "AssertionError: One of args.model_dir and args.eval_model_path should be valid path\n"
     ]
    }
   ],
   "source": [
    "!python -u evaluate.py \\\n",
    "--task FB15k237 \\\n",
    "--is-test \\\n",
    "--eval-model-path \"ouput/model_best.mdl\" \\\n",
    "--neighbor-weight 0.05 \\\n",
    "--rerank-n-hop 2 \\\n",
    "--train-path \"data/FB15k237/train.txt.json\" \\\n",
    "--valid-path \"data/FB15k237/test.txt.json\" "
   ]
  },
  {
   "cell_type": "code",
   "execution_count": null,
   "metadata": {
    "id": "q-FE8xIpT_iS"
   },
   "outputs": [],
   "source": []
  }
 ],
 "metadata": {
  "accelerator": "GPU",
  "colab": {
   "collapsed_sections": [],
   "name": "CocaKE.ipynb",
   "provenance": []
  },
  "interpreter": {
   "hash": "91bb753b057673435fb8d6f6a083e6c818364728098c7ae050ca3a25357dd754"
  },
  "kernelspec": {
   "display_name": "Python 3 (ipykernel)",
   "language": "python",
   "name": "python3"
  },
  "language_info": {
   "codemirror_mode": {
    "name": "ipython",
    "version": 3
   },
   "file_extension": ".py",
   "mimetype": "text/x-python",
   "name": "python",
   "nbconvert_exporter": "python",
   "pygments_lexer": "ipython3",
   "version": "3.9.7"
  }
 },
 "nbformat": 4,
 "nbformat_minor": 1
}
