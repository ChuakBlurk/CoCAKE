{
 "cells": [
  {
   "cell_type": "code",
   "execution_count": 1,
   "metadata": {
    "colab": {
     "base_uri": "https://localhost:8080/"
    },
    "executionInfo": {
     "elapsed": 8236,
     "status": "ok",
     "timestamp": 1653378015397,
     "user": {
      "displayName": "Bruce HU",
      "userId": "02309357718155453395"
     },
     "user_tz": -120
    },
    "id": "vZwq84Xtc1JK",
    "outputId": "1dab5771-2d2b-4a69-9ea5-28dfa329f4c7"
   },
   "outputs": [
    {
     "name": "stdout",
     "output_type": "stream",
     "text": [
      "Collecting transformers\n",
      "  Downloading transformers-4.19.2-py3-none-any.whl (4.2 MB)\n",
      "\u001b[K     |████████████████████████████████| 4.2 MB 3.3 MB/s eta 0:00:01\n",
      "\u001b[?25hCollecting huggingface-hub<1.0,>=0.1.0\n",
      "  Downloading huggingface_hub-0.7.0-py3-none-any.whl (86 kB)\n",
      "\u001b[K     |████████████████████████████████| 86 kB 13.0 MB/s eta 0:00:01\n",
      "\u001b[?25hCollecting regex!=2019.12.17\n",
      "  Downloading regex-2022.4.24-cp38-cp38-manylinux_2_17_x86_64.manylinux2014_x86_64.whl (764 kB)\n",
      "\u001b[K     |████████████████████████████████| 764 kB 48.6 MB/s eta 0:00:01\n",
      "\u001b[?25hCollecting tokenizers!=0.11.3,<0.13,>=0.11.1\n",
      "  Downloading tokenizers-0.12.1-cp38-cp38-manylinux_2_12_x86_64.manylinux2010_x86_64.whl (6.6 MB)\n",
      "\u001b[K     |████████████████████████████████| 6.6 MB 45.7 MB/s eta 0:00:01     |█████████▉                      | 2.0 MB 45.7 MB/s eta 0:00:01\n",
      "\u001b[?25hRequirement already satisfied: tqdm>=4.27 in /opt/conda/lib/python3.8/site-packages (from transformers) (4.62.3)\n",
      "Requirement already satisfied: pyyaml>=5.1 in /opt/conda/lib/python3.8/site-packages (from transformers) (6.0)\n",
      "Requirement already satisfied: packaging>=20.0 in /opt/conda/lib/python3.8/site-packages (from transformers) (21.3)\n",
      "Requirement already satisfied: numpy>=1.17 in /opt/conda/lib/python3.8/site-packages (from transformers) (1.21.2)\n",
      "Requirement already satisfied: filelock in /opt/conda/lib/python3.8/site-packages (from transformers) (3.4.2)\n",
      "Requirement already satisfied: requests in /opt/conda/lib/python3.8/site-packages (from transformers) (2.27.1)\n",
      "Requirement already satisfied: typing-extensions>=3.7.4.3 in /opt/conda/lib/python3.8/site-packages (from huggingface-hub<1.0,>=0.1.0->transformers) (3.10.0.2)\n",
      "Requirement already satisfied: pyparsing!=3.0.5,>=2.0.2 in /opt/conda/lib/python3.8/site-packages (from packaging>=20.0->transformers) (3.0.9)\n",
      "Requirement already satisfied: charset-normalizer~=2.0.0 in /opt/conda/lib/python3.8/site-packages (from requests->transformers) (2.0.4)\n",
      "Requirement already satisfied: idna<4,>=2.5 in /opt/conda/lib/python3.8/site-packages (from requests->transformers) (3.3)\n",
      "Requirement already satisfied: certifi>=2017.4.17 in /opt/conda/lib/python3.8/site-packages (from requests->transformers) (2021.10.8)\n",
      "Requirement already satisfied: urllib3<1.27,>=1.21.1 in /opt/conda/lib/python3.8/site-packages (from requests->transformers) (1.26.7)\n",
      "Installing collected packages: tokenizers, regex, huggingface-hub, transformers\n",
      "Successfully installed huggingface-hub-0.7.0 regex-2022.4.24 tokenizers-0.12.1 transformers-4.19.2\n",
      "\u001b[33mWARNING: Running pip as the 'root' user can result in broken permissions and conflicting behaviour with the system package manager. It is recommended to use a virtual environment instead: https://pip.pypa.io/warnings/venv\u001b[0m\n"
     ]
    }
   ],
   "source": [
    "!pip install transformers"
   ]
  },
  {
   "cell_type": "code",
   "execution_count": 3,
   "metadata": {},
   "outputs": [
    {
     "name": "stdout",
     "output_type": "stream",
     "text": [
      "Process CocaKE_ver3/data/FB15k237/train.txt...\n",
      "Load 14904 entity descriptions from CocaKE_ver3/data/FB15k237/FB15k_mid2description.txt\n",
      "No desc found for /m/02vxfw_\n",
      "No desc found for /m/02jxk\n",
      "No desc found for /m/03m3nzf\n",
      "No desc found for /m/04_1l0v\n",
      "No desc found for /m/09x_r\n",
      "No desc found for /m/0bytsc\n",
      "No desc found for /m/07_bv_\n",
      "No desc found for /m/03lsz8h\n",
      "No desc found for /m/05xf75\n",
      "No desc found for /m/01dy7j\n",
      "No desc found for /m/09ly2r6\n",
      "No desc found for /m/015zql\n",
      "No desc found for /m/047vp20\n",
      "No desc found for /m/0hk18\n",
      "No desc found for /m/061zc_\n",
      "No desc found for /m/0cfywh\n",
      "No desc found for /m/03tp4\n",
      "No desc found for /m/029cpw\n",
      "No desc found for /m/0lmb5\n",
      "No desc found for /m/0m6x4\n",
      "No desc found for /m/09l65\n",
      "No desc found for /m/0147fv\n",
      "No desc found for /m/0kvrb\n",
      "No desc found for /m/03gwg4w\n",
      "No desc found for /m/0bm39zf\n",
      "No desc found for /m/08mbj32\n",
      "No desc found for /m/068bs\n",
      "No desc found for /m/01xzb6\n",
      "No desc found for /m/07djnx\n",
      "No desc found for /m/02q_plc\n",
      "No desc found for /m/02cjrp\n",
      "No desc found for /m/01xsbh\n",
      "No desc found for /m/03bx017\n",
      "No desc found for /m/01sy5c\n",
      "No desc found for /m/0854hr\n",
      "No desc found for /m/0h005\n",
      "No desc found for /m/01fkv0\n",
      "No desc found for /m/05h4fjx\n",
      "No desc found for /m/05ry0p\n",
      "No desc found for /m/01dvms\n",
      "No desc found for /m/04686_j\n",
      "No desc found for /m/08chdb\n",
      "No desc found for /m/05zvq6g\n",
      "No desc found for /m/0288crq\n",
      "No desc found for /m/01my929\n",
      "No desc found for /m/07t_l23\n",
      "No desc found for /m/07s4911\n",
      "Load 14951 entity names from CocaKE_ver3/data/FB15k237/FB15k_mid2name.txt\n",
      "Save 237 relations to CocaKE_ver3/data/FB15k237/relations.json\n",
      "Save 272115 examples to CocaKE_ver3/data/FB15k237/train.txt.json\n",
      "Process CocaKE_ver3/data/FB15k237/valid.txt...\n",
      "Save 17535 examples to CocaKE_ver3/data/FB15k237/valid.txt.json\n",
      "Process CocaKE_ver3/data/FB15k237/test.txt...\n",
      "Save 20466 examples to CocaKE_ver3/data/FB15k237/test.txt.json\n",
      "Get 14541 entities, 237 relations in total\n",
      "Done\n"
     ]
    }
   ],
   "source": [
    "!python -u preprocess.py --task \"FB15k237\" \\\n",
    "--train-path \"data/FB15k237/train.txt\" \\\n",
    "--valid-path \"data/FB15k237/valid.txt\" \\\n",
    "--test-path \"data/FB15k237/test.txt\""
   ]
  },
  {
   "cell_type": "code",
   "execution_count": 1,
   "metadata": {
    "colab": {
     "base_uri": "https://localhost:8080/"
    },
    "id": "55_w7Exe2Mj5",
    "outputId": "605a055b-a888-4679-9434-53305236a62b"
   },
   "outputs": [
    {
     "name": "stdout",
     "output_type": "stream",
     "text": [
      "^C\n"
     ]
    }
   ],
   "source": [
    "!python -u main.py \\\n",
    "--model-dir \"output\" \\\n",
    "--pretrained-model bert-base-uncased \\\n",
    "--pooling mean \\\n",
    "--lr 1e-5 \\\n",
    "--use-link-graph \\\n",
    "--train-path \"data/FB15k237/train.txt.json\" \\\n",
    "--valid-path \"data/FB15k237/valid.txt.json\" \\\n",
    "--commonsense \"data/FB15k237\" \\\n",
    "--task FB15k237 \\\n",
    "--batch-size  \\\n",
    "--print-freq 1024 \\\n",
    "--additive-margin 0.02 \\\n",
    "--use-amp \\\n",
    "--use-self-negative \\\n",
    "--finetune-t \\\n",
    "--pre-batch 2 \\\n",
    "--epochs 10 \\\n",
    "--workers 4 \\\n",
    "--cake-ratio 0.5 \\\n",
    "--max-to-keep 5 "
   ]
  },
  {
   "cell_type": "code",
   "execution_count": 3,
   "metadata": {},
   "outputs": [
    {
     "name": "stderr",
     "output_type": "stream",
     "text": [
      "Traceback (most recent call last):\n",
      "  File \"e:\\University\\Year 3 Spring\\Exchange\\ETH\\Lectures\\Computational Semantics\\Project\\CocaKE_Bruce\\CocaKE_ver3\\evaluate.py\", line 10, in <module>\n",
      "    from config import args\n",
      "  File \"e:\\University\\Year 3 Spring\\Exchange\\ETH\\Lectures\\Computational Semantics\\Project\\CocaKE_Bruce\\CocaKE_ver3\\config.py\", line 96, in <module>\n",
      "    assert os.path.exists(args.eval_model_path), 'One of args.model_dir and args.eval_model_path should be valid path'\n",
      "AssertionError: One of args.model_dir and args.eval_model_path should be valid path\n"
     ]
    }
   ],
   "source": [
    "!python -u evaluate.py \\\n",
    "--task FB15k237 \\\n",
    "--is-test \\\n",
    "--eval-model-path \"output/model_best.mdl\" \\\n",
    "--neighbor-weight 0.05 \\\n",
    "--rerank-n-hop 2 \\\n",
    "--train-path \"data/FB15k237/train.txt.json\" \\\n",
    "--valid-path \"data/FB15k237/test.txt.json\" "
   ]
  },
  {
   "cell_type": "code",
   "execution_count": null,
   "metadata": {
    "id": "q-FE8xIpT_iS"
   },
   "outputs": [],
   "source": []
  }
 ],
 "metadata": {
  "accelerator": "GPU",
  "colab": {
   "collapsed_sections": [],
   "name": "CocaKE.ipynb",
   "provenance": []
  },
  "interpreter": {
   "hash": "91bb753b057673435fb8d6f6a083e6c818364728098c7ae050ca3a25357dd754"
  },
  "kernelspec": {
   "display_name": "Python 3 (ipykernel)",
   "language": "python",
   "name": "python3"
  },
  "language_info": {
   "codemirror_mode": {
    "name": "ipython",
    "version": 3
   },
   "file_extension": ".py",
   "mimetype": "text/x-python",
   "name": "python",
   "nbconvert_exporter": "python",
   "pygments_lexer": "ipython3",
   "version": "3.9.7"
  }
 },
 "nbformat": 4,
 "nbformat_minor": 1
}
